{
 "cells": [
  {
   "cell_type": "markdown",
   "metadata": {},
   "source": [
    "For installing all needed libraries in project to miniconda env. use this command:\n",
    "'''\n",
    "!conda install -c conda-forge <library_name1> <library_name2> ...  # Replace with your libraries\n",
    "'''"
   ]
  },
  {
   "cell_type": "code",
   "execution_count": 1,
   "metadata": {},
   "outputs": [
    {
     "name": "stdout",
     "output_type": "stream",
     "text": [
      "  tag_id tag_name\n",
      "0      0        -\n",
      "1      1     --1-\n",
      "2      2    --10-\n",
      "3      3    --12-\n",
      "4      4   --122-\n",
      "5      5   --166-\n",
      "6      6    --17-\n",
      "7      7    --19-\n",
      "8      8     --2-\n",
      "9      9   --258-\n"
     ]
    }
   ],
   "source": [
    "import pandas as pd\n",
    "import warnings\n",
    "\n",
    "warnings.filterwarnings(\"ignore\")\n",
    "\n",
    "r = pd.read_csv('ratings.csv')\n",
    "tr = pd.read_csv('to_read.csv')\n",
    "b = pd.read_csv('books.csv')\n",
    "bt = pd.read_csv('book_tags.csv')\n",
    "t = pd.read_csv('tags.csv')\n",
    "\n",
    "print(t.head(10))"
   ]
  },
  {
   "cell_type": "code",
   "execution_count": 2,
   "metadata": {},
   "outputs": [
    {
     "data": {
      "text/plain": [
       "'This cell imports the necessary libraries and reads five CSV files into \\nPandas DataFrames: ratings.csv, to_read.csv, books.csv, tags.csv, and book_tags.csv.'"
      ]
     },
     "execution_count": 2,
     "metadata": {},
     "output_type": "execute_result"
    }
   ],
   "source": [
    "'''This cell imports the necessary libraries and reads five CSV files into \n",
    "Pandas DataFrames: ratings.csv, to_read.csv, books.csv, tags.csv, and book_tags.csv.'''"
   ]
  },
  {
   "cell_type": "code",
   "execution_count": 3,
   "metadata": {},
   "outputs": [
    {
     "data": {
      "text/html": [
       "<div>\n",
       "<style scoped>\n",
       "    .dataframe tbody tr th:only-of-type {\n",
       "        vertical-align: middle;\n",
       "    }\n",
       "\n",
       "    .dataframe tbody tr th {\n",
       "        vertical-align: top;\n",
       "    }\n",
       "\n",
       "    .dataframe thead th {\n",
       "        text-align: right;\n",
       "    }\n",
       "</style>\n",
       "<table border=\"1\" class=\"dataframe\">\n",
       "  <thead>\n",
       "    <tr style=\"text-align: right;\">\n",
       "      <th></th>\n",
       "      <th>book_id</th>\n",
       "      <th>user_id</th>\n",
       "      <th>rating</th>\n",
       "    </tr>\n",
       "  </thead>\n",
       "  <tbody>\n",
       "    <tr>\n",
       "      <th>0</th>\n",
       "      <td>1</td>\n",
       "      <td>314</td>\n",
       "      <td>5</td>\n",
       "    </tr>\n",
       "    <tr>\n",
       "      <th>1</th>\n",
       "      <td>1</td>\n",
       "      <td>439</td>\n",
       "      <td>3</td>\n",
       "    </tr>\n",
       "    <tr>\n",
       "      <th>2</th>\n",
       "      <td>1</td>\n",
       "      <td>588</td>\n",
       "      <td>5</td>\n",
       "    </tr>\n",
       "    <tr>\n",
       "      <th>3</th>\n",
       "      <td>1</td>\n",
       "      <td>1169</td>\n",
       "      <td>4</td>\n",
       "    </tr>\n",
       "    <tr>\n",
       "      <th>4</th>\n",
       "      <td>1</td>\n",
       "      <td>1185</td>\n",
       "      <td>4</td>\n",
       "    </tr>\n",
       "  </tbody>\n",
       "</table>\n",
       "</div>"
      ],
      "text/plain": [
       "   book_id  user_id  rating\n",
       "0        1      314       5\n",
       "1        1      439       3\n",
       "2        1      588       5\n",
       "3        1     1169       4\n",
       "4        1     1185       4"
      ]
     },
     "execution_count": 3,
     "metadata": {},
     "output_type": "execute_result"
    }
   ],
   "source": [
    "r.head()"
   ]
  },
  {
   "cell_type": "code",
   "execution_count": 4,
   "metadata": {},
   "outputs": [
    {
     "data": {
      "text/plain": [
       "981756"
      ]
     },
     "execution_count": 4,
     "metadata": {},
     "output_type": "execute_result"
    }
   ],
   "source": [
    "len(r)"
   ]
  },
  {
   "cell_type": "code",
   "execution_count": 5,
   "metadata": {},
   "outputs": [
    {
     "data": {
      "text/plain": [
       "'This cell calculates and prints the total number of rows in the ratings.csv DataFrame using the len() function.'"
      ]
     },
     "execution_count": 5,
     "metadata": {},
     "output_type": "execute_result"
    }
   ],
   "source": [
    "'''This cell calculates and prints the total number of rows in the ratings.csv DataFrame using the len() function.'''"
   ]
  },
  {
   "cell_type": "code",
   "execution_count": 6,
   "metadata": {},
   "outputs": [
    {
     "data": {
      "text/plain": [
       "<Axes: >"
      ]
     },
     "execution_count": 6,
     "metadata": {},
     "output_type": "execute_result"
    },
    {
     "data": {
      "image/png": "[encoded data removed]",
      "text/plain": [
       "<Figure size 640x480 with 1 Axes>"
      ]
     },
     "metadata": {},
     "output_type": "display_data"
    }
   ],
   "source": [
    "r.rating.hist( bins = 5 )"
   ]
  },
  {
   "cell_type": "code",
   "execution_count": 7,
   "metadata": {},
   "outputs": [
    {
     "data": {
      "text/plain": [
       "\"This cell generates a histogram of the 'rating' column in the ratings.csv DataFrame, dividing the ratings into five bins.\""
      ]
     },
     "execution_count": 7,
     "metadata": {},
     "output_type": "execute_result"
    }
   ],
   "source": [
    "'''This cell generates a histogram of the 'rating' column in the ratings.csv DataFrame, dividing the ratings into five bins.'''"
   ]
  },
  {
   "cell_type": "code",
   "execution_count": 8,
   "metadata": {},
   "outputs": [
    {
     "data": {
      "text/html": [
       "<div>\n",
       "<style scoped>\n",
       "    .dataframe tbody tr th:only-of-type {\n",
       "        vertical-align: middle;\n",
       "    }\n",
       "\n",
       "    .dataframe tbody tr th {\n",
       "        vertical-align: top;\n",
       "    }\n",
       "\n",
       "    .dataframe thead th {\n",
       "        text-align: right;\n",
       "    }\n",
       "</style>\n",
       "<table border=\"1\" class=\"dataframe\">\n",
       "  <thead>\n",
       "    <tr style=\"text-align: right;\">\n",
       "      <th></th>\n",
       "      <th>user_id</th>\n",
       "      <th>book_id</th>\n",
       "    </tr>\n",
       "  </thead>\n",
       "  <tbody>\n",
       "    <tr>\n",
       "      <th>0</th>\n",
       "      <td>1</td>\n",
       "      <td>112</td>\n",
       "    </tr>\n",
       "    <tr>\n",
       "      <th>1</th>\n",
       "      <td>1</td>\n",
       "      <td>235</td>\n",
       "    </tr>\n",
       "    <tr>\n",
       "      <th>2</th>\n",
       "      <td>1</td>\n",
       "      <td>533</td>\n",
       "    </tr>\n",
       "    <tr>\n",
       "      <th>3</th>\n",
       "      <td>1</td>\n",
       "      <td>1198</td>\n",
       "    </tr>\n",
       "    <tr>\n",
       "      <th>4</th>\n",
       "      <td>1</td>\n",
       "      <td>1874</td>\n",
       "    </tr>\n",
       "  </tbody>\n",
       "</table>\n",
       "</div>"
      ],
      "text/plain": [
       "   user_id  book_id\n",
       "0        1      112\n",
       "1        1      235\n",
       "2        1      533\n",
       "3        1     1198\n",
       "4        1     1874"
      ]
     },
     "execution_count": 8,
     "metadata": {},
     "output_type": "execute_result"
    }
   ],
   "source": [
    "tr.head()"
   ]
  },
  {
   "cell_type": "code",
   "execution_count": 9,
   "metadata": {},
   "outputs": [
    {
     "data": {
      "text/plain": [
       "912705"
      ]
     },
     "execution_count": 9,
     "metadata": {},
     "output_type": "execute_result"
    }
   ],
   "source": [
    "len(tr)"
   ]
  },
  {
   "cell_type": "code",
   "execution_count": 10,
   "metadata": {},
   "outputs": [
    {
     "data": {
      "text/plain": [
       "9986"
      ]
     },
     "execution_count": 10,
     "metadata": {},
     "output_type": "execute_result"
    }
   ],
   "source": [
    "len(tr.book_id.unique())"
   ]
  },
  {
   "cell_type": "code",
   "execution_count": 11,
   "metadata": {},
   "outputs": [
    {
     "data": {
      "text/plain": [
       "'This cell calculates and prints the total number of unique book IDs in the to_read.csv DataFrame.'"
      ]
     },
     "execution_count": 11,
     "metadata": {},
     "output_type": "execute_result"
    }
   ],
   "source": [
    "'''This cell calculates and prints the total number of unique book IDs in the to_read.csv DataFrame.'''"
   ]
  },
  {
   "cell_type": "code",
   "execution_count": 12,
   "metadata": {},
   "outputs": [
    {
     "data": {
      "text/plain": [
       "48871"
      ]
     },
     "execution_count": 12,
     "metadata": {},
     "output_type": "execute_result"
    }
   ],
   "source": [
    "len(tr.user_id.unique())"
   ]
  },
  {
   "cell_type": "code",
   "execution_count": 13,
   "metadata": {},
   "outputs": [
    {
     "data": {
      "text/html": [
       "<div>\n",
       "<style scoped>\n",
       "    .dataframe tbody tr th:only-of-type {\n",
       "        vertical-align: middle;\n",
       "    }\n",
       "\n",
       "    .dataframe tbody tr th {\n",
       "        vertical-align: top;\n",
       "    }\n",
       "\n",
       "    .dataframe thead th {\n",
       "        text-align: right;\n",
       "    }\n",
       "</style>\n",
       "<table border=\"1\" class=\"dataframe\">\n",
       "  <thead>\n",
       "    <tr style=\"text-align: right;\">\n",
       "      <th></th>\n",
       "      <th>id</th>\n",
       "      <th>book_id</th>\n",
       "      <th>best_book_id</th>\n",
       "      <th>work_id</th>\n",
       "      <th>books_count</th>\n",
       "      <th>isbn</th>\n",
       "      <th>isbn13</th>\n",
       "      <th>authors</th>\n",
       "      <th>original_publication_year</th>\n",
       "      <th>original_title</th>\n",
       "      <th>...</th>\n",
       "      <th>ratings_count</th>\n",
       "      <th>work_ratings_count</th>\n",
       "      <th>work_text_reviews_count</th>\n",
       "      <th>ratings_1</th>\n",
       "      <th>ratings_2</th>\n",
       "      <th>ratings_3</th>\n",
       "      <th>ratings_4</th>\n",
       "      <th>ratings_5</th>\n",
       "      <th>image_url</th>\n",
       "      <th>small_image_url</th>\n",
       "    </tr>\n",
       "  </thead>\n",
       "  <tbody>\n",
       "    <tr>\n",
       "      <th>0</th>\n",
       "      <td>1</td>\n",
       "      <td>2767052</td>\n",
       "      <td>2767052</td>\n",
       "      <td>2792775</td>\n",
       "      <td>272</td>\n",
       "      <td>439023483</td>\n",
       "      <td>9.78043902348e+12</td>\n",
       "      <td>Suzanne Collins</td>\n",
       "      <td>2008.0</td>\n",
       "      <td>The Hunger Games</td>\n",
       "      <td>...</td>\n",
       "      <td>4780653</td>\n",
       "      <td>4942365</td>\n",
       "      <td>155254</td>\n",
       "      <td>66715</td>\n",
       "      <td>127936</td>\n",
       "      <td>560092</td>\n",
       "      <td>1481305</td>\n",
       "      <td>2706317</td>\n",
       "      <td>https://images.gr-assets.com/books/1447303603m...</td>\n",
       "      <td>https://images.gr-assets.com/books/1447303603s...</td>\n",
       "    </tr>\n",
       "    <tr>\n",
       "      <th>1</th>\n",
       "      <td>2</td>\n",
       "      <td>3</td>\n",
       "      <td>3</td>\n",
       "      <td>4640799</td>\n",
       "      <td>491</td>\n",
       "      <td>439554934</td>\n",
       "      <td>9.78043955493e+12</td>\n",
       "      <td>J.K. Rowling, Mary GrandPré</td>\n",
       "      <td>1997.0</td>\n",
       "      <td>Harry Potter and the Philosopher's Stone</td>\n",
       "      <td>...</td>\n",
       "      <td>4602479</td>\n",
       "      <td>4800065</td>\n",
       "      <td>75867</td>\n",
       "      <td>75504</td>\n",
       "      <td>101676</td>\n",
       "      <td>455024</td>\n",
       "      <td>1156318</td>\n",
       "      <td>3011543</td>\n",
       "      <td>https://images.gr-assets.com/books/1474154022m...</td>\n",
       "      <td>https://images.gr-assets.com/books/1474154022s...</td>\n",
       "    </tr>\n",
       "    <tr>\n",
       "      <th>2</th>\n",
       "      <td>3</td>\n",
       "      <td>41865</td>\n",
       "      <td>41865</td>\n",
       "      <td>3212258</td>\n",
       "      <td>226</td>\n",
       "      <td>316015849</td>\n",
       "      <td>9.78031601584e+12</td>\n",
       "      <td>Stephenie Meyer</td>\n",
       "      <td>2005.0</td>\n",
       "      <td>Twilight</td>\n",
       "      <td>...</td>\n",
       "      <td>3866839</td>\n",
       "      <td>3916824</td>\n",
       "      <td>95009</td>\n",
       "      <td>456191</td>\n",
       "      <td>436802</td>\n",
       "      <td>793319</td>\n",
       "      <td>875073</td>\n",
       "      <td>1355439</td>\n",
       "      <td>https://images.gr-assets.com/books/1361039443m...</td>\n",
       "      <td>https://images.gr-assets.com/books/1361039443s...</td>\n",
       "    </tr>\n",
       "    <tr>\n",
       "      <th>3</th>\n",
       "      <td>4</td>\n",
       "      <td>2657</td>\n",
       "      <td>2657</td>\n",
       "      <td>3275794</td>\n",
       "      <td>487</td>\n",
       "      <td>61120081</td>\n",
       "      <td>9.78006112008e+12</td>\n",
       "      <td>Harper Lee</td>\n",
       "      <td>1960.0</td>\n",
       "      <td>To Kill a Mockingbird</td>\n",
       "      <td>...</td>\n",
       "      <td>3198671</td>\n",
       "      <td>3340896</td>\n",
       "      <td>72586</td>\n",
       "      <td>60427</td>\n",
       "      <td>117415</td>\n",
       "      <td>446835</td>\n",
       "      <td>1001952</td>\n",
       "      <td>1714267</td>\n",
       "      <td>https://images.gr-assets.com/books/1361975680m...</td>\n",
       "      <td>https://images.gr-assets.com/books/1361975680s...</td>\n",
       "    </tr>\n",
       "    <tr>\n",
       "      <th>4</th>\n",
       "      <td>5</td>\n",
       "      <td>4671</td>\n",
       "      <td>4671</td>\n",
       "      <td>245494</td>\n",
       "      <td>1356</td>\n",
       "      <td>743273567</td>\n",
       "      <td>9.78074327356e+12</td>\n",
       "      <td>F. Scott Fitzgerald</td>\n",
       "      <td>1925.0</td>\n",
       "      <td>The Great Gatsby</td>\n",
       "      <td>...</td>\n",
       "      <td>2683664</td>\n",
       "      <td>2773745</td>\n",
       "      <td>51992</td>\n",
       "      <td>86236</td>\n",
       "      <td>197621</td>\n",
       "      <td>606158</td>\n",
       "      <td>936012</td>\n",
       "      <td>947718</td>\n",
       "      <td>https://images.gr-assets.com/books/1490528560m...</td>\n",
       "      <td>https://images.gr-assets.com/books/1490528560s...</td>\n",
       "    </tr>\n",
       "  </tbody>\n",
       "</table>\n",
       "<p>5 rows × 23 columns</p>\n",
       "</div>"
      ],
      "text/plain": [
       "  id  book_id best_book_id  work_id books_count       isbn             isbn13  \\\n",
       "0  1  2767052      2767052  2792775         272  439023483  9.78043902348e+12   \n",
       "1  2        3            3  4640799         491  439554934  9.78043955493e+12   \n",
       "2  3    41865        41865  3212258         226  316015849  9.78031601584e+12   \n",
       "3  4     2657         2657  3275794         487   61120081  9.78006112008e+12   \n",
       "4  5     4671         4671   245494        1356  743273567  9.78074327356e+12   \n",
       "\n",
       "                       authors original_publication_year  \\\n",
       "0              Suzanne Collins                    2008.0   \n",
       "1  J.K. Rowling, Mary GrandPré                    1997.0   \n",
       "2              Stephenie Meyer                    2005.0   \n",
       "3                   Harper Lee                    1960.0   \n",
       "4          F. Scott Fitzgerald                    1925.0   \n",
       "\n",
       "                             original_title  ... ratings_count  \\\n",
       "0                          The Hunger Games  ...       4780653   \n",
       "1  Harry Potter and the Philosopher's Stone  ...       4602479   \n",
       "2                                  Twilight  ...       3866839   \n",
       "3                     To Kill a Mockingbird  ...       3198671   \n",
       "4                          The Great Gatsby  ...       2683664   \n",
       "\n",
       "  work_ratings_count work_text_reviews_count ratings_1 ratings_2 ratings_3  \\\n",
       "0            4942365                  155254     66715    127936    560092   \n",
       "1            4800065                   75867     75504    101676    455024   \n",
       "2            3916824                   95009    456191    436802    793319   \n",
       "3            3340896                   72586     60427    117415    446835   \n",
       "4            2773745                   51992     86236    197621    606158   \n",
       "\n",
       "  ratings_4 ratings_5                                          image_url  \\\n",
       "0   1481305   2706317  https://images.gr-assets.com/books/1447303603m...   \n",
       "1   1156318   3011543  https://images.gr-assets.com/books/1474154022m...   \n",
       "2    875073   1355439  https://images.gr-assets.com/books/1361039443m...   \n",
       "3   1001952   1714267  https://images.gr-assets.com/books/1361975680m...   \n",
       "4    936012    947718  https://images.gr-assets.com/books/1490528560m...   \n",
       "\n",
       "                                     small_image_url  \n",
       "0  https://images.gr-assets.com/books/1447303603s...  \n",
       "1  https://images.gr-assets.com/books/1474154022s...  \n",
       "2  https://images.gr-assets.com/books/1361039443s...  \n",
       "3  https://images.gr-assets.com/books/1361975680s...  \n",
       "4  https://images.gr-assets.com/books/1490528560s...  \n",
       "\n",
       "[5 rows x 23 columns]"
      ]
     },
     "execution_count": 13,
     "metadata": {},
     "output_type": "execute_result"
    }
   ],
   "source": [
    "b.head()"
   ]
  },
  {
   "cell_type": "code",
   "execution_count": 14,
   "metadata": {},
   "outputs": [
    {
     "data": {
      "text/plain": [
       "20003"
      ]
     },
     "execution_count": 14,
     "metadata": {},
     "output_type": "execute_result"
    }
   ],
   "source": [
    "len(b)"
   ]
  },
  {
   "cell_type": "code",
   "execution_count": 15,
   "metadata": {},
   "outputs": [
    {
     "data": {
      "text/plain": [
       "53424"
      ]
     },
     "execution_count": 15,
     "metadata": {},
     "output_type": "execute_result"
    }
   ],
   "source": [
    "r.user_id.max()"
   ]
  },
  {
   "cell_type": "code",
   "execution_count": 16,
   "metadata": {},
   "outputs": [
    {
     "data": {
      "text/plain": [
       "'This cell calculates and prints the maximum user ID in the ratings.csv DataFrame.'"
      ]
     },
     "execution_count": 16,
     "metadata": {},
     "output_type": "execute_result"
    }
   ],
   "source": [
    "'''This cell calculates and prints the maximum user ID in the ratings.csv DataFrame.'''"
   ]
  },
  {
   "cell_type": "code",
   "execution_count": 17,
   "metadata": {},
   "outputs": [
    {
     "data": {
      "text/plain": [
       "10000"
      ]
     },
     "execution_count": 17,
     "metadata": {},
     "output_type": "execute_result"
    }
   ],
   "source": [
    "r.book_id.max()"
   ]
  },
  {
   "cell_type": "code",
   "execution_count": 18,
   "metadata": {},
   "outputs": [],
   "source": [
    "assert( len( r.user_id.unique()) == r.user_id.max())\n",
    "assert( len( r.book_id.unique()) == r.book_id.max())"
   ]
  },
  {
   "cell_type": "code",
   "execution_count": 19,
   "metadata": {},
   "outputs": [
    {
     "data": {
      "text/plain": [
       "'This cell uses assertions to check if the number of unique user \\nIDs and book IDs in the ratings.csv DataFrame matches the maximum user ID and book ID, respectively.'"
      ]
     },
     "execution_count": 19,
     "metadata": {},
     "output_type": "execute_result"
    }
   ],
   "source": [
    "'''This cell uses assertions to check if the number of unique user \n",
    "IDs and book IDs in the ratings.csv DataFrame matches the maximum user ID and book ID, respectively.'''"
   ]
  },
  {
   "cell_type": "code",
   "execution_count": 20,
   "metadata": {},
   "outputs": [
    {
     "data": {
      "text/plain": [
       "count    10000.000000\n",
       "mean        98.175600\n",
       "std          5.690167\n",
       "min          8.000000\n",
       "25%         99.000000\n",
       "50%        100.000000\n",
       "75%        100.000000\n",
       "max        100.000000\n",
       "Name: book_id, dtype: float64"
      ]
     },
     "execution_count": 20,
     "metadata": {},
     "output_type": "execute_result"
    }
   ],
   "source": [
    "reviews_per_book = r.groupby( 'book_id' ).book_id.apply( lambda x: len( x ))\n",
    "reviews_per_book.describe()"
   ]
  },
  {
   "cell_type": "code",
   "execution_count": 21,
   "metadata": {},
   "outputs": [
    {
     "data": {
      "text/plain": [
       "'This cell calculates and displays descriptive statistics for the number of reviews per book in the ratings.csv DataFrame.'"
      ]
     },
     "execution_count": 21,
     "metadata": {},
     "output_type": "execute_result"
    }
   ],
   "source": [
    "'''This cell calculates and displays descriptive statistics for the number of reviews per book in the ratings.csv DataFrame.'''"
   ]
  },
  {
   "cell_type": "code",
   "execution_count": 22,
   "metadata": {},
   "outputs": [
    {
     "data": {
      "text/plain": [
       "book_id\n",
       "7803     8\n",
       "9345    11\n",
       "9486    24\n",
       "1935    34\n",
       "9315    36\n",
       "9553    41\n",
       "8181    44\n",
       "9260    46\n",
       "9479    47\n",
       "9705    48\n",
       "Name: book_id, dtype: int64"
      ]
     },
     "execution_count": 22,
     "metadata": {},
     "output_type": "execute_result"
    }
   ],
   "source": [
    "reviews_per_book.sort_values().head( 10 )"
   ]
  },
  {
   "cell_type": "code",
   "execution_count": 23,
   "metadata": {},
   "outputs": [
    {
     "data": {
      "text/plain": [
       "'This cell displays the ten books with the lowest number of reviews, sorted in ascending order.'"
      ]
     },
     "execution_count": 23,
     "metadata": {},
     "output_type": "execute_result"
    }
   ],
   "source": [
    "'''This cell displays the ten books with the lowest number of reviews, sorted in ascending order.'''"
   ]
  },
  {
   "cell_type": "code",
   "execution_count": 24,
   "metadata": {},
   "outputs": [
    {
     "data": {
      "text/plain": [
       "count    53424.000000\n",
       "mean        18.376685\n",
       "std         26.268690\n",
       "min          2.000000\n",
       "25%          3.000000\n",
       "50%          8.000000\n",
       "75%         22.000000\n",
       "max        200.000000\n",
       "Name: user_id, dtype: float64"
      ]
     },
     "execution_count": 24,
     "metadata": {},
     "output_type": "execute_result"
    }
   ],
   "source": [
    "reviews_per_user = r.groupby( 'user_id' ).user_id.apply( lambda x: len( x ))\n",
    "reviews_per_user.describe()"
   ]
  },
  {
   "cell_type": "code",
   "execution_count": 25,
   "metadata": {},
   "outputs": [
    {
     "data": {
      "text/plain": [
       "'This cell calculates and displays descriptive statistics for the number of reviews per user in the ratings.csv DataFrame.'"
      ]
     },
     "execution_count": 25,
     "metadata": {},
     "output_type": "execute_result"
    }
   ],
   "source": [
    "'''This cell calculates and displays descriptive statistics for the number of reviews per user in the ratings.csv DataFrame.'''"
   ]
  },
  {
   "cell_type": "code",
   "execution_count": 26,
   "metadata": {},
   "outputs": [
    {
     "data": {
      "text/plain": [
       "user_id\n",
       "9253     2\n",
       "28673    2\n",
       "42222    2\n",
       "21323    2\n",
       "42219    2\n",
       "42214    2\n",
       "42209    2\n",
       "21321    2\n",
       "9964     2\n",
       "9944     2\n",
       "Name: user_id, dtype: int64"
      ]
     },
     "execution_count": 26,
     "metadata": {},
     "output_type": "execute_result"
    }
   ],
   "source": [
    "reviews_per_user.sort_values().head( 10 )"
   ]
  },
  {
   "cell_type": "code",
   "execution_count": 27,
   "metadata": {},
   "outputs": [
    {
     "data": {
      "text/html": [
       "<div>\n",
       "<style scoped>\n",
       "    .dataframe tbody tr th:only-of-type {\n",
       "        vertical-align: middle;\n",
       "    }\n",
       "\n",
       "    .dataframe tbody tr th {\n",
       "        vertical-align: top;\n",
       "    }\n",
       "\n",
       "    .dataframe thead th {\n",
       "        text-align: right;\n",
       "    }\n",
       "</style>\n",
       "<table border=\"1\" class=\"dataframe\">\n",
       "  <thead>\n",
       "    <tr style=\"text-align: right;\">\n",
       "      <th></th>\n",
       "      <th>tag_id</th>\n",
       "      <th>tag_name</th>\n",
       "    </tr>\n",
       "  </thead>\n",
       "  <tbody>\n",
       "    <tr>\n",
       "      <th>0</th>\n",
       "      <td>0</td>\n",
       "      <td>-</td>\n",
       "    </tr>\n",
       "    <tr>\n",
       "      <th>1</th>\n",
       "      <td>1</td>\n",
       "      <td>--1-</td>\n",
       "    </tr>\n",
       "    <tr>\n",
       "      <th>2</th>\n",
       "      <td>2</td>\n",
       "      <td>--10-</td>\n",
       "    </tr>\n",
       "    <tr>\n",
       "      <th>3</th>\n",
       "      <td>3</td>\n",
       "      <td>--12-</td>\n",
       "    </tr>\n",
       "    <tr>\n",
       "      <th>4</th>\n",
       "      <td>4</td>\n",
       "      <td>--122-</td>\n",
       "    </tr>\n",
       "  </tbody>\n",
       "</table>\n",
       "</div>"
      ],
      "text/plain": [
       "  tag_id tag_name\n",
       "0      0        -\n",
       "1      1     --1-\n",
       "2      2    --10-\n",
       "3      3    --12-\n",
       "4      4   --122-"
      ]
     },
     "execution_count": 27,
     "metadata": {},
     "output_type": "execute_result"
    }
   ],
   "source": [
    "import matplotlib.pyplot as plt\n",
    "\n",
    "t.head()"
   ]
  },
  {
   "cell_type": "code",
   "execution_count": 28,
   "metadata": {},
   "outputs": [
    {
     "data": {
      "text/plain": [
       "'This cell imports the matplotlib.pyplot library and displays the first few rows of the tags.csv DataFrame.'"
      ]
     },
     "execution_count": 28,
     "metadata": {},
     "output_type": "execute_result"
    }
   ],
   "source": [
    "'''This cell imports the matplotlib.pyplot library and displays the first few rows of the tags.csv DataFrame.'''"
   ]
  },
  {
   "cell_type": "code",
   "execution_count": 29,
   "metadata": {},
   "outputs": [
    {
     "data": {
      "image/png": "[encoded data removed]",
      "text/plain": [
       "<Figure size 1200x600 with 1 Axes>"
      ]
     },
     "metadata": {},
     "output_type": "display_data"
    }
   ],
   "source": [
    "import pandas as pd\n",
    "import matplotlib.pyplot as plt\n",
    "\n",
    "r = pd.read_csv('ratings.csv')\n",
    "tr = pd.read_csv('to_read.csv')\n",
    "b = pd.read_csv('books.csv')\n",
    "t = pd.read_csv('tags.csv')\n",
    "bt = pd.read_csv('book_tags.csv')\n",
    "\n",
    "selected_tags = ['fiction', 'football', 'horror', 'crime', 'detective', 'manga', 'read', 'american',\n",
    "'children', 'chinese', 'church', 'ancient', 'alien', 'apocalyptic', 'greek', 'romance', 'thriller']\n",
    "\n",
    "t['tag_name'] = t['tag_name'].str.lower()\n",
    "\n",
    "t = t.dropna(subset=['tag_name'])\n",
    "\n",
    "t['tag_category'] = t['tag_name'].apply(lambda tag: next((category for category in selected_tags if category in tag), None))\n",
    "\n",
    "t_filtered = t.dropna(subset=['tag_category'])\n",
    "\n",
    "tag_category_frequencies = t_filtered['tag_category'].value_counts()\n",
    "\n",
    "plt.figure(figsize=(12, 6))\n",
    "tag_category_frequencies.plot(kind='bar', color='skyblue')\n",
    "plt.xlabel('Tag Category')\n",
    "plt.ylabel('Frequency')\n",
    "plt.title('Frequencies of Selected Tag Categories')\n",
    "plt.xticks(rotation=45)\n",
    "plt.show()"
   ]
  },
  {
   "cell_type": "code",
   "execution_count": 30,
   "metadata": {},
   "outputs": [
    {
     "data": {
      "text/plain": [
       "'I tried to gather the names of the tags under one roof here. I had quite a few trials, but as I mentioned before, there are 35k tags and it’s impossible to reorganize them all from scratch. This was one of the reasons why this project was very challenging.\\nAfterwards, I sorted them from the most to the least books and visualized it'"
      ]
     },
     "execution_count": 30,
     "metadata": {},
     "output_type": "execute_result"
    }
   ],
   "source": [
    "'''I tried to gather the names of the tags under one roof here. I had quite a few trials, but as I mentioned before, there are 35k tags and it’s impossible to reorganize them all from scratch. This was one of the reasons why this project was very challenging.\n",
    "Afterwards, I sorted them from the most to the least books and visualized it'''"
   ]
  },
  {
   "cell_type": "code",
   "execution_count": 31,
   "metadata": {},
   "outputs": [
    {
     "data": {
      "text/plain": [
       "68505"
      ]
     },
     "execution_count": 31,
     "metadata": {},
     "output_type": "execute_result"
    }
   ],
   "source": [
    "len(t)"
   ]
  },
  {
   "cell_type": "code",
   "execution_count": 32,
   "metadata": {},
   "outputs": [
    {
     "data": {
      "text/html": [
       "<div>\n",
       "<style scoped>\n",
       "    .dataframe tbody tr th:only-of-type {\n",
       "        vertical-align: middle;\n",
       "    }\n",
       "\n",
       "    .dataframe tbody tr th {\n",
       "        vertical-align: top;\n",
       "    }\n",
       "\n",
       "    .dataframe thead th {\n",
       "        text-align: right;\n",
       "    }\n",
       "</style>\n",
       "<table border=\"1\" class=\"dataframe\">\n",
       "  <thead>\n",
       "    <tr style=\"text-align: right;\">\n",
       "      <th></th>\n",
       "      <th>goodreads_book_id</th>\n",
       "      <th>tag_id</th>\n",
       "      <th>count</th>\n",
       "    </tr>\n",
       "  </thead>\n",
       "  <tbody>\n",
       "    <tr>\n",
       "      <th>0</th>\n",
       "      <td>1</td>\n",
       "      <td>30574</td>\n",
       "      <td>167697</td>\n",
       "    </tr>\n",
       "    <tr>\n",
       "      <th>1</th>\n",
       "      <td>1</td>\n",
       "      <td>11305</td>\n",
       "      <td>37174</td>\n",
       "    </tr>\n",
       "    <tr>\n",
       "      <th>2</th>\n",
       "      <td>1</td>\n",
       "      <td>11557</td>\n",
       "      <td>34173</td>\n",
       "    </tr>\n",
       "    <tr>\n",
       "      <th>3</th>\n",
       "      <td>1</td>\n",
       "      <td>8717</td>\n",
       "      <td>12986</td>\n",
       "    </tr>\n",
       "    <tr>\n",
       "      <th>4</th>\n",
       "      <td>1</td>\n",
       "      <td>33114</td>\n",
       "      <td>12716</td>\n",
       "    </tr>\n",
       "  </tbody>\n",
       "</table>\n",
       "</div>"
      ],
      "text/plain": [
       "  goodreads_book_id tag_id   count\n",
       "0                 1  30574  167697\n",
       "1                 1  11305   37174\n",
       "2                 1  11557   34173\n",
       "3                 1   8717   12986\n",
       "4                 1  33114   12716"
      ]
     },
     "execution_count": 32,
     "metadata": {},
     "output_type": "execute_result"
    }
   ],
   "source": [
    "bt.head()"
   ]
  },
  {
   "cell_type": "code",
   "execution_count": 33,
   "metadata": {},
   "outputs": [
    {
     "data": {
      "text/plain": [
       "1999827"
      ]
     },
     "execution_count": 33,
     "metadata": {},
     "output_type": "execute_result"
    }
   ],
   "source": [
    "len(bt)"
   ]
  },
  {
   "cell_type": "code",
   "execution_count": 34,
   "metadata": {},
   "outputs": [],
   "source": [
    "bt = bt.merge( t, on = 'tag_id' )"
   ]
  },
  {
   "cell_type": "code",
   "execution_count": 35,
   "metadata": {},
   "outputs": [
    {
     "data": {
      "text/plain": [
       "\"The code bt = bt.merge(t, on='tag_id') merges two DataFrames (bt and t) based on the common column 'tag_id',\\ncombining information about book tags and general tag details into a single DataFrame (bt).\""
      ]
     },
     "execution_count": 35,
     "metadata": {},
     "output_type": "execute_result"
    }
   ],
   "source": [
    "'''The code bt = bt.merge(t, on='tag_id') merges two DataFrames (bt and t) based on the common column 'tag_id',\n",
    "combining information about book tags and general tag details into a single DataFrame (bt).'''"
   ]
  },
  {
   "cell_type": "code",
   "execution_count": 36,
   "metadata": {},
   "outputs": [
    {
     "name": "stdout",
     "output_type": "stream",
     "text": [
      "Index(['id', 'book_id', 'best_book_id', 'work_id', 'books_count', 'isbn',\n",
      "       'isbn13', 'authors', 'original_publication_year', 'original_title',\n",
      "       'title', 'language_code', 'average_rating', 'ratings_count',\n",
      "       'work_ratings_count', 'work_text_reviews_count', 'ratings_1',\n",
      "       'ratings_2', 'ratings_3', 'ratings_4', 'ratings_5', 'image_url',\n",
      "       'small_image_url'],\n",
      "      dtype='object')\n"
     ]
    }
   ],
   "source": [
    "print(b.columns)"
   ]
  },
  {
   "cell_type": "code",
   "execution_count": 37,
   "metadata": {},
   "outputs": [
    {
     "name": "stdout",
     "output_type": "stream",
     "text": [
      "        tag_id   count tag_name_x tag_category_x tag_name_y tag_category_y  \\\n",
      "1172998  30574  165591    to-read           read    to-read           read   \n",
      "1010103  30574   57424    to-read           read    to-read           read   \n",
      "1907853  11743     410    fiction        fiction    fiction        fiction   \n",
      "1602243  30574   13090    to-read           read    to-read           read   \n",
      "1903046  30574   24635    to-read           read    to-read           read   \n",
      "423700   30574   77561    to-read           read    to-read           read   \n",
      "526903   30574   46481    to-read           read    to-read           read   \n",
      "1976646  30574    2063    to-read           read    to-read           read   \n",
      "1249795  30574  286059    to-read           read    to-read           read   \n",
      "1784646  30574   37679    to-read           read    to-read           read   \n",
      "\n",
      "          book_id                                              title  \n",
      "1172998  20170404                                     Station Eleven  \n",
      "1010103  18166936  The Strange and Beautiful Sorrows of Ava Lavender  \n",
      "1907853      3476                                         Icy Sparks  \n",
      "1602243  26114516                                     The Weekenders  \n",
      "1903046      3463                                 A Bend in the Road  \n",
      "423700   13588356  Daring Greatly: How the Courage to Be Vulnerab...  \n",
      "526903   15768409       The Retribution of Mara Dyer (Mara Dyer, #3)  \n",
      "1976646      4591  Genome: the Autobiography of a Species in 23 C...  \n",
      "1249795  20910157                                         Yes Please  \n",
      "1784646       998  The Millionaire Next Door: The Surprising Secr...  \n"
     ]
    },
    {
     "data": {
      "text/plain": [
       "\"bt = bt.merge(t, on='tag_id')\\nbt = bt.merge(b[['book_id', 'title']], left_on='goodreads_book_id', right_on='book_id')\\nbt.loc[bt['count'] < 0, 'count'] = 0\\nbt.drop(columns=['goodreads_book_id'], inplace=True)\\nbt.sample(10, weights='count')\""
      ]
     },
     "execution_count": 37,
     "metadata": {},
     "output_type": "execute_result"
    }
   ],
   "source": [
    "bt = bt.merge(t, on='tag_id')\n",
    "bt = bt.merge(b[['book_id', 'title']], left_on='goodreads_book_id', right_on='book_id')\n",
    "bt['count'] = bt['count'].astype(int)\n",
    "bt.loc[bt['count'] < 0, 'count'] = 0\n",
    "bt.drop(columns=['goodreads_book_id'], inplace=True)\n",
    "sampled_bt = bt.sample(10, weights='count')\n",
    "\n",
    "print(sampled_bt)\n",
    "\n",
    "'''bt = bt.merge(t, on='tag_id')\n",
    "bt = bt.merge(b[['book_id', 'title']], left_on='goodreads_book_id', right_on='book_id')\n",
    "bt.loc[bt['count'] < 0, 'count'] = 0\n",
    "bt.drop(columns=['goodreads_book_id'], inplace=True)\n",
    "bt.sample(10, weights='count')'''"
   ]
  },
  {
   "cell_type": "code",
   "execution_count": 38,
   "metadata": {},
   "outputs": [
    {
     "data": {
      "text/plain": [
       "'Merging Tags and Book Data:\\n\\nCombine information about book tags, general tags, and book titles.\\nData Cleaning:\\n\\nEnsure non-negative counts and remove redundant columns.\\nSampling Data:\\n\\nTake a sample of 10 rows, considering count values for weighting.'"
      ]
     },
     "execution_count": 38,
     "metadata": {},
     "output_type": "execute_result"
    }
   ],
   "source": [
    "'''Merging Tags and Book Data:\n",
    "\n",
    "Combine information about book tags, general tags, and book titles.\n",
    "Data Cleaning:\n",
    "\n",
    "Ensure non-negative counts and remove redundant columns.\n",
    "Sampling Data:\n",
    "\n",
    "Take a sample of 10 rows, considering count values for weighting.'''"
   ]
  },
  {
   "cell_type": "code",
   "execution_count": 39,
   "metadata": {},
   "outputs": [
    {
     "data": {
      "text/plain": [
       "count    2.097136e+06\n",
       "mean     2.672955e+02\n",
       "std      4.464812e+03\n",
       "min      0.000000e+00\n",
       "25%      9.000000e+00\n",
       "50%      1.900000e+01\n",
       "75%      4.800000e+01\n",
       "max      5.962340e+05\n",
       "Name: count, dtype: float64"
      ]
     },
     "execution_count": 39,
     "metadata": {},
     "output_type": "execute_result"
    }
   ],
   "source": [
    "bt['count'].describe()"
   ]
  },
  {
   "cell_type": "code",
   "execution_count": 40,
   "metadata": {},
   "outputs": [],
   "source": [
    "bt.loc[ bt['count'] < 0, 'count'] = 0"
   ]
  },
  {
   "cell_type": "code",
   "execution_count": 41,
   "metadata": {},
   "outputs": [
    {
     "data": {
      "text/html": [
       "<div>\n",
       "<style scoped>\n",
       "    .dataframe tbody tr th:only-of-type {\n",
       "        vertical-align: middle;\n",
       "    }\n",
       "\n",
       "    .dataframe tbody tr th {\n",
       "        vertical-align: top;\n",
       "    }\n",
       "\n",
       "    .dataframe thead th {\n",
       "        text-align: right;\n",
       "    }\n",
       "</style>\n",
       "<table border=\"1\" class=\"dataframe\">\n",
       "  <thead>\n",
       "    <tr style=\"text-align: right;\">\n",
       "      <th></th>\n",
       "      <th>tag_id</th>\n",
       "      <th>count</th>\n",
       "      <th>tag_name_x</th>\n",
       "      <th>tag_category_x</th>\n",
       "      <th>tag_name_y</th>\n",
       "      <th>tag_category_y</th>\n",
       "      <th>book_id</th>\n",
       "      <th>title</th>\n",
       "    </tr>\n",
       "  </thead>\n",
       "  <tbody>\n",
       "    <tr>\n",
       "      <th>1452641</th>\n",
       "      <td>30574</td>\n",
       "      <td>22363</td>\n",
       "      <td>to-read</td>\n",
       "      <td>read</td>\n",
       "      <td>to-read</td>\n",
       "      <td>read</td>\n",
       "      <td>23602473</td>\n",
       "      <td>God Help the Child</td>\n",
       "    </tr>\n",
       "    <tr>\n",
       "      <th>14100</th>\n",
       "      <td>30574</td>\n",
       "      <td>4139</td>\n",
       "      <td>to-read</td>\n",
       "      <td>read</td>\n",
       "      <td>to-read</td>\n",
       "      <td>read</td>\n",
       "      <td>11381910</td>\n",
       "      <td>Heft</td>\n",
       "    </tr>\n",
       "    <tr>\n",
       "      <th>55696</th>\n",
       "      <td>30574</td>\n",
       "      <td>204393</td>\n",
       "      <td>to-read</td>\n",
       "      <td>read</td>\n",
       "      <td>to-read</td>\n",
       "      <td>read</td>\n",
       "      <td>11735983</td>\n",
       "      <td>Insurgent (Divergent, #2)</td>\n",
       "    </tr>\n",
       "    <tr>\n",
       "      <th>241303</th>\n",
       "      <td>30574</td>\n",
       "      <td>1339</td>\n",
       "      <td>to-read</td>\n",
       "      <td>read</td>\n",
       "      <td>to-read</td>\n",
       "      <td>read</td>\n",
       "      <td>13037558</td>\n",
       "      <td>I, Michael Bennett (Michael Bennett, #5)</td>\n",
       "    </tr>\n",
       "    <tr>\n",
       "      <th>1859842</th>\n",
       "      <td>30574</td>\n",
       "      <td>27830</td>\n",
       "      <td>to-read</td>\n",
       "      <td>read</td>\n",
       "      <td>to-read</td>\n",
       "      <td>read</td>\n",
       "      <td>2517</td>\n",
       "      <td>My Name is Red</td>\n",
       "    </tr>\n",
       "    <tr>\n",
       "      <th>257297</th>\n",
       "      <td>30574</td>\n",
       "      <td>133977</td>\n",
       "      <td>to-read</td>\n",
       "      <td>read</td>\n",
       "      <td>to-read</td>\n",
       "      <td>read</td>\n",
       "      <td>13099738</td>\n",
       "      <td>Steal Like an Artist: 10 Things Nobody Told Yo...</td>\n",
       "    </tr>\n",
       "    <tr>\n",
       "      <th>1435845</th>\n",
       "      <td>30574</td>\n",
       "      <td>198698</td>\n",
       "      <td>to-read</td>\n",
       "      <td>read</td>\n",
       "      <td>to-read</td>\n",
       "      <td>read</td>\n",
       "      <td>23437156</td>\n",
       "      <td>Six of Crows (Six of Crows, #1)</td>\n",
       "    </tr>\n",
       "    <tr>\n",
       "      <th>2042513</th>\n",
       "      <td>25438</td>\n",
       "      <td>27</td>\n",
       "      <td>realistic-fiction</td>\n",
       "      <td>fiction</td>\n",
       "      <td>realistic-fiction</td>\n",
       "      <td>fiction</td>\n",
       "      <td>5166</td>\n",
       "      <td>Midwives</td>\n",
       "    </tr>\n",
       "    <tr>\n",
       "      <th>1495040</th>\n",
       "      <td>30574</td>\n",
       "      <td>66194</td>\n",
       "      <td>to-read</td>\n",
       "      <td>read</td>\n",
       "      <td>to-read</td>\n",
       "      <td>read</td>\n",
       "      <td>24529123</td>\n",
       "      <td>This Is Where It Ends</td>\n",
       "    </tr>\n",
       "    <tr>\n",
       "      <th>858503</th>\n",
       "      <td>18640</td>\n",
       "      <td>21</td>\n",
       "      <td>love</td>\n",
       "      <td>None</td>\n",
       "      <td>love</td>\n",
       "      <td>None</td>\n",
       "      <td>17449417</td>\n",
       "      <td>Simple Perfection (Rosemary Beach, #6; Perfect...</td>\n",
       "    </tr>\n",
       "  </tbody>\n",
       "</table>\n",
       "</div>"
      ],
      "text/plain": [
       "        tag_id   count         tag_name_x tag_category_x         tag_name_y  \\\n",
       "1452641  30574   22363            to-read           read            to-read   \n",
       "14100    30574    4139            to-read           read            to-read   \n",
       "55696    30574  204393            to-read           read            to-read   \n",
       "241303   30574    1339            to-read           read            to-read   \n",
       "1859842  30574   27830            to-read           read            to-read   \n",
       "257297   30574  133977            to-read           read            to-read   \n",
       "1435845  30574  198698            to-read           read            to-read   \n",
       "2042513  25438      27  realistic-fiction        fiction  realistic-fiction   \n",
       "1495040  30574   66194            to-read           read            to-read   \n",
       "858503   18640      21               love           None               love   \n",
       "\n",
       "        tag_category_y   book_id  \\\n",
       "1452641           read  23602473   \n",
       "14100             read  11381910   \n",
       "55696             read  11735983   \n",
       "241303            read  13037558   \n",
       "1859842           read      2517   \n",
       "257297            read  13099738   \n",
       "1435845           read  23437156   \n",
       "2042513        fiction      5166   \n",
       "1495040           read  24529123   \n",
       "858503            None  17449417   \n",
       "\n",
       "                                                     title  \n",
       "1452641                                 God Help the Child  \n",
       "14100                                                 Heft  \n",
       "55696                            Insurgent (Divergent, #2)  \n",
       "241303            I, Michael Bennett (Michael Bennett, #5)  \n",
       "1859842                                     My Name is Red  \n",
       "257297   Steal Like an Artist: 10 Things Nobody Told Yo...  \n",
       "1435845                    Six of Crows (Six of Crows, #1)  \n",
       "2042513                                           Midwives  \n",
       "1495040                              This Is Where It Ends  \n",
       "858503   Simple Perfection (Rosemary Beach, #6; Perfect...  "
      ]
     },
     "execution_count": 41,
     "metadata": {},
     "output_type": "execute_result"
    }
   ],
   "source": [
    "bt.sample( 10, weights = 'count')"
   ]
  },
  {
   "cell_type": "code",
   "execution_count": 42,
   "metadata": {},
   "outputs": [
    {
     "data": {
      "image/png": "[encoded data removed]",
      "text/plain": [
       "<Figure size 640x480 with 1 Axes>"
      ]
     },
     "metadata": {},
     "output_type": "display_data"
    }
   ],
   "source": [
    "import matplotlib.pyplot as plt\n",
    "\n",
    "plt.hist(r['rating'], bins=5, edgecolor='black')\n",
    "plt.xlabel('Rating')\n",
    "plt.ylabel('Count')\n",
    "plt.title('Rating Distribution')\n",
    "plt.show()"
   ]
  },
  {
   "cell_type": "code",
   "execution_count": 43,
   "metadata": {},
   "outputs": [
    {
     "data": {
      "text/plain": [
       "\"Histogram Creation:\\n\\nThe code generates a histogram for the 'rating' column in DataFrame 'r'.\\nBins and Edge Color:\\n\\nThe histogram is divided into 5 bins, and the edges are outlined in black.\\nLabels and Title:\\n\\nX and Y-axis labels, as well as a title, are added for clarity.\\nDisplay:\\n\\nThe resulting histogram is displayed using Matplotlib.\""
      ]
     },
     "execution_count": 43,
     "metadata": {},
     "output_type": "execute_result"
    }
   ],
   "source": [
    "'''Histogram Creation:\n",
    "\n",
    "The code generates a histogram for the 'rating' column in DataFrame 'r'.\n",
    "Bins and Edge Color:\n",
    "\n",
    "The histogram is divided into 5 bins, and the edges are outlined in black.\n",
    "Labels and Title:\n",
    "\n",
    "X and Y-axis labels, as well as a title, are added for clarity.\n",
    "Display:\n",
    "\n",
    "The resulting histogram is displayed using Matplotlib.'''"
   ]
  },
  {
   "cell_type": "code",
   "execution_count": 44,
   "metadata": {},
   "outputs": [
    {
     "data": {
      "image/png": "[encoded data removed]",
      "text/plain": [
       "<Figure size 640x480 with 1 Axes>"
      ]
     },
     "metadata": {},
     "output_type": "display_data"
    }
   ],
   "source": [
    "import pandas as pd\n",
    "import matplotlib.pyplot as plt\n",
    "\n",
    "b['average_rating'] = pd.to_numeric(b['average_rating'], errors='coerce')\n",
    "\n",
    "avg_ratings_by_author = b.groupby('authors')['average_rating'].mean().sort_values(ascending=False).head(10)\n",
    "\n",
    "avg_ratings_by_author.plot(kind='barh')\n",
    "plt.xlabel('Average Rating')\n",
    "plt.title('Average Rankings by Author')\n",
    "plt.show()"
   ]
  },
  {
   "cell_type": "code",
   "execution_count": 45,
   "metadata": {},
   "outputs": [
    {
     "data": {
      "text/plain": [
       "\"Average Ratings by Author:\\n\\nCalculate the mean of 'average_rating' for each author in DataFrame 'b'.\\nTop 10 Authors:\\n\\nSelect the top 10 authors with the highest average ratings.\\nHorizontal Bar Chart:\\n\\nPlot a horizontal bar chart to visualize the average ratings for each author.\\nLabels and Title:\\n\\nAdd labels for the x-axis and y-axis, along with a title for the chart.\\nDisplay:\\n\\nDisplay the bar chart using Matplotlib.\""
      ]
     },
     "execution_count": 45,
     "metadata": {},
     "output_type": "execute_result"
    }
   ],
   "source": [
    "'''Average Ratings by Author:\n",
    "\n",
    "Calculate the mean of 'average_rating' for each author in DataFrame 'b'.\n",
    "Top 10 Authors:\n",
    "\n",
    "Select the top 10 authors with the highest average ratings.\n",
    "Horizontal Bar Chart:\n",
    "\n",
    "Plot a horizontal bar chart to visualize the average ratings for each author.\n",
    "Labels and Title:\n",
    "\n",
    "Add labels for the x-axis and y-axis, along with a title for the chart.\n",
    "Display:\n",
    "\n",
    "Display the bar chart using Matplotlib.'''"
   ]
  },
  {
   "cell_type": "code",
   "execution_count": 46,
   "metadata": {},
   "outputs": [
    {
     "data": {
      "image/png": "[encoded data removed]",
      "text/plain": [
       "<Figure size 640x480 with 1 Axes>"
      ]
     },
     "metadata": {},
     "output_type": "display_data"
    }
   ],
   "source": [
    "user_review_counts = r.groupby('user_id')['book_id'].count().sort_values(ascending=False).head(10)\n",
    "user_review_counts.plot(kind='barh')\n",
    "plt.xlabel('Number of Reviews')\n",
    "plt.title('Number of Reviews by User')\n",
    "plt.show()"
   ]
  },
  {
   "cell_type": "code",
   "execution_count": 47,
   "metadata": {},
   "outputs": [
    {
     "data": {
      "text/plain": [
       "\"User Review Counts:\\n\\nCount the number of reviews each user ('user_id') has given in DataFrame 'r'.\\nTop 10 Users:\\n\\nIdentify the top 10 users with the most reviews.\\nHorizontal Bar Chart:\\n\\nCreate a horizontal bar chart to visualize the number of reviews for each user.\\nLabels and Title:\\n\\nInclude labels for the x-axis and y-axis, along with a title for the chart.\\nDisplay:\\n\\nShow the horizontal bar chart using Matplotlib.\""
      ]
     },
     "execution_count": 47,
     "metadata": {},
     "output_type": "execute_result"
    }
   ],
   "source": [
    "'''User Review Counts:\n",
    "\n",
    "Count the number of reviews each user ('user_id') has given in DataFrame 'r'.\n",
    "Top 10 Users:\n",
    "\n",
    "Identify the top 10 users with the most reviews.\n",
    "Horizontal Bar Chart:\n",
    "\n",
    "Create a horizontal bar chart to visualize the number of reviews for each user.\n",
    "Labels and Title:\n",
    "\n",
    "Include labels for the x-axis and y-axis, along with a title for the chart.\n",
    "Display:\n",
    "\n",
    "Show the horizontal bar chart using Matplotlib.'''"
   ]
  },
  {
   "cell_type": "code",
   "execution_count": 48,
   "metadata": {},
   "outputs": [
    {
     "data": {
      "image/png": "[encoded data removed]",
      "text/plain": [
       "<Figure size 640x480 with 1 Axes>"
      ]
     },
     "metadata": {},
     "output_type": "display_data"
    }
   ],
   "source": [
    "reviews_by_year = b.groupby('original_publication_year')['id'].count().sort_index()\n",
    "reviews_by_year.plot(kind='bar')\n",
    "plt.xlabel('Year')\n",
    "plt.ylabel('Number of Reviews')\n",
    "plt.title('Number of Reviews by Book Year')\n",
    "plt.show()"
   ]
  },
  {
   "cell_type": "code",
   "execution_count": 49,
   "metadata": {},
   "outputs": [
    {
     "data": {
      "text/plain": [
       "\"Reviews by Publication Year:\\n\\nCount the number of reviews for each original publication year in DataFrame 'b'.\\nBar Chart:\\n\\nCreate a bar chart to illustrate the distribution of reviews based on the original publication year.\\nLabels and Title:\\n\\nAdd labels for the x-axis and y-axis, along with a title for the chart.\\nDisplay:\\n\\nShow the bar chart using Matplotlib.\""
      ]
     },
     "execution_count": 49,
     "metadata": {},
     "output_type": "execute_result"
    }
   ],
   "source": [
    "'''Reviews by Publication Year:\n",
    "\n",
    "Count the number of reviews for each original publication year in DataFrame 'b'.\n",
    "Bar Chart:\n",
    "\n",
    "Create a bar chart to illustrate the distribution of reviews based on the original publication year.\n",
    "Labels and Title:\n",
    "\n",
    "Add labels for the x-axis and y-axis, along with a title for the chart.\n",
    "Display:\n",
    "\n",
    "Show the bar chart using Matplotlib.'''"
   ]
  },
  {
   "cell_type": "code",
   "execution_count": 50,
   "metadata": {},
   "outputs": [],
   "source": [
    "##################And the reason for my various attempts at these visualizations \n",
    "##################is to better introduce the data frame and to show its complexity."
   ]
  },
  {
   "cell_type": "code",
   "execution_count": 51,
   "metadata": {},
   "outputs": [
    {
     "data": {
      "image/png": "[encoded data removed]",
      "text/plain": [
       "<Figure size 640x480 with 1 Axes>"
      ]
     },
     "metadata": {},
     "output_type": "display_data"
    }
   ],
   "source": [
    "tag_counts = bt.groupby('tag_id')['count'].sum().sort_values(ascending=False)\n",
    "top_tags = tag_counts.head(10)\n",
    "top_tags.plot(kind='barh')\n",
    "plt.xlabel('Number of Tags')\n",
    "plt.title('Top 10 Most Popular Tags')\n",
    "plt.show()"
   ]
  },
  {
   "cell_type": "code",
   "execution_count": 52,
   "metadata": {},
   "outputs": [
    {
     "data": {
      "image/png": "[encoded data removed]",
      "text/plain": [
       "<Figure size 1000x600 with 1 Axes>"
      ]
     },
     "metadata": {},
     "output_type": "display_data"
    }
   ],
   "source": [
    "import matplotlib.pyplot as plt\n",
    "\n",
    "top_rated_books = b.sort_values(by='ratings_count', ascending=False).head(10)\n",
    "plt.figure(figsize=(10, 6))\n",
    "plt.barh(top_rated_books['title'], top_rated_books['ratings_count'], color='skyblue')\n",
    "plt.xlabel('Number of Ratings')\n",
    "plt.title('Top 10 Rated Books')\n",
    "plt.gca().invert_yaxis()\n",
    "plt.show()"
   ]
  },
  {
   "cell_type": "code",
   "execution_count": 53,
   "metadata": {},
   "outputs": [
    {
     "data": {
      "text/plain": [
       "\"Top-Rated Books:\\n\\nSelect the top 10 books with the highest ratings count from DataFrame 'b'.\\nHorizontal Bar Chart:\\n\\nCreate a horizontal bar chart to visualize the ratings count for each top-rated book.\\nFigure Size and Color:\\n\\nSet the figure size to 10x6 inches and use sky-blue color for the bars.\\nLabels and Title:\\n\\nAdd labels for the x-axis and y-axis, along with a title for the chart.\\nInvert Y-Axis:\\n\\nInvert the y-axis to display the highest-rated book at the top of the chart.\\nDisplay:\\n\\nShow the horizontal bar chart using Matplotlib.\""
      ]
     },
     "execution_count": 53,
     "metadata": {},
     "output_type": "execute_result"
    }
   ],
   "source": [
    "'''Top-Rated Books:\n",
    "\n",
    "Select the top 10 books with the highest ratings count from DataFrame 'b'.\n",
    "Horizontal Bar Chart:\n",
    "\n",
    "Create a horizontal bar chart to visualize the ratings count for each top-rated book.\n",
    "Figure Size and Color:\n",
    "\n",
    "Set the figure size to 10x6 inches and use sky-blue color for the bars.\n",
    "Labels and Title:\n",
    "\n",
    "Add labels for the x-axis and y-axis, along with a title for the chart.\n",
    "Invert Y-Axis:\n",
    "\n",
    "Invert the y-axis to display the highest-rated book at the top of the chart.\n",
    "Display:\n",
    "\n",
    "Show the horizontal bar chart using Matplotlib.'''"
   ]
  },
  {
   "cell_type": "code",
   "execution_count": 54,
   "metadata": {},
   "outputs": [
    {
     "data": {
      "text/plain": [
       "tag_name\n",
       "to-read              41776\n",
       "favorites            41504\n",
       "owned                41232\n",
       "books-i-own          40848\n",
       "currently-reading    40464\n",
       "kindle               38848\n",
       "fiction              38080\n",
       "ebook                38064\n",
       "library              37792\n",
       "to-buy               37040\n",
       "owned-books          36736\n",
       "ebooks               35584\n",
       "audiobook            35056\n",
       "wish-list            33216\n",
       "audiobooks           33008\n",
       "audio                32240\n",
       "adult                30848\n",
       "read-in-2016         30240\n",
       "read-in-2015         29616\n",
       "contemporary         27984\n",
       "Name: tag_name, dtype: int64"
      ]
     },
     "execution_count": 54,
     "metadata": {},
     "output_type": "execute_result"
    }
   ],
   "source": [
    "bt = bt.merge(t[['tag_id', 'tag_name']], on='tag_id', suffixes=('_tag_app', '_tag'))\n",
    "bt.drop(columns=['book_id'], inplace=True)\n",
    "bt.loc[bt['count'] < 0, 'count'] = 0\n",
    "tag_counts = bt.groupby('tag_name').tag_name.count().sort_values(ascending=False)\n",
    "tag_counts.head(20)"
   ]
  },
  {
   "cell_type": "code",
   "execution_count": 55,
   "metadata": {},
   "outputs": [
    {
     "data": {
      "text/plain": [
       "\"\\nIn this cell:\\n\\nTag information from DataFrame t is merged into the existing DataFrame bt based on 'tag_id'.\\nThe 'book_id' column is dropped for simplification.\\nNegative counts in the 'count' column are set to 0.\\nTag counts are calculated by grouping on 'tag_name'.\\nThe top 20 tags by count are displayed\""
      ]
     },
     "execution_count": 55,
     "metadata": {},
     "output_type": "execute_result"
    }
   ],
   "source": [
    "'''\n",
    "In this cell:\n",
    "\n",
    "Tag information from DataFrame t is merged into the existing DataFrame bt based on 'tag_id'.\n",
    "The 'book_id' column is dropped for simplification.\n",
    "Negative counts in the 'count' column are set to 0.\n",
    "Tag counts are calculated by grouping on 'tag_name'.\n",
    "The top 20 tags by count are displayed'''"
   ]
  },
  {
   "cell_type": "code",
   "execution_count": 56,
   "metadata": {},
   "outputs": [
    {
     "data": {
      "text/plain": [
       "tag_name\n",
       "to-read              41776\n",
       "favorites            41504\n",
       "owned                41232\n",
       "books-i-own          40848\n",
       "currently-reading    40464\n",
       "kindle               38848\n",
       "fiction              38080\n",
       "ebook                38064\n",
       "library              37792\n",
       "to-buy               37040\n",
       "owned-books          36736\n",
       "ebooks               35584\n",
       "audiobook            35056\n",
       "wish-list            33216\n",
       "audiobooks           33008\n",
       "audio                32240\n",
       "adult                30848\n",
       "read-in-2016         30240\n",
       "read-in-2015         29616\n",
       "contemporary         27984\n",
       "Name: tag_name, dtype: int64"
      ]
     },
     "execution_count": 56,
     "metadata": {},
     "output_type": "execute_result"
    }
   ],
   "source": [
    "tag_counts = bt.groupby( 'tag_name' ).tag_name.count().sort_values( ascending = False )\n",
    "tag_counts.head( 20 )"
   ]
  },
  {
   "cell_type": "code",
   "execution_count": 57,
   "metadata": {},
   "outputs": [
    {
     "data": {
      "text/plain": [
       "\"import matplotlib.pyplot as plt\\n\\nreviews_by_year = b.groupby('original_publication_year')['id'].count().sort_index()\\nplt.figure(figsize=(10, 6))\\nplt.bar(reviews_by_year.index, reviews_by_year.values, color='skyblue')\\nplt.xlabel('Year')\\nplt.ylabel('Number of Reviews')\\nplt.title('Number of Reviews by Original Publication Year')\\nplt.show()\\n\""
      ]
     },
     "execution_count": 57,
     "metadata": {},
     "output_type": "execute_result"
    }
   ],
   "source": [
    "'''import matplotlib.pyplot as plt\n",
    "\n",
    "reviews_by_year = b.groupby('original_publication_year')['id'].count().sort_index()\n",
    "plt.figure(figsize=(10, 6))\n",
    "plt.bar(reviews_by_year.index, reviews_by_year.values, color='skyblue')\n",
    "plt.xlabel('Year')\n",
    "plt.ylabel('Number of Reviews')\n",
    "plt.title('Number of Reviews by Original Publication Year')\n",
    "plt.show()\n",
    "'''"
   ]
  },
  {
   "cell_type": "code",
   "execution_count": 58,
   "metadata": {},
   "outputs": [
    {
     "name": "stdout",
     "output_type": "stream",
     "text": [
      "Random Selected Label: the-personal-mba\n"
     ]
    }
   ],
   "source": [
    "import pandas as pd\n",
    "import numpy as np\n",
    "\n",
    "tags = pd.read_csv('tags.csv')\n",
    "selected_tag = np.random.choice(tags['tag_name'], 1)[0]\n",
    "print(f\"Random Selected Label: {selected_tag}\")"
   ]
  },
  {
   "cell_type": "code",
   "execution_count": 59,
   "metadata": {},
   "outputs": [
    {
     "name": "stdout",
     "output_type": "stream",
     "text": [
      "  tag_id   count\n",
      "0  30574  167697\n",
      "1  11305   37174\n",
      "2  11557   34173\n",
      "3   8717   12986\n",
      "4  33114   12716\n"
     ]
    }
   ],
   "source": [
    "import pandas as pd\n",
    "\n",
    "book_tags = pd.read_csv('book_tags.csv')\n",
    "book_tags.drop('goodreads_book_id', axis=1, inplace=True)\n",
    "print(book_tags.head())"
   ]
  },
  {
   "cell_type": "code",
   "execution_count": 60,
   "metadata": {},
   "outputs": [
    {
     "data": {
      "text/plain": [
       "\"\\nIn this cell:\\n\\nThe 'book_tags.csv' file is read into a Pandas DataFrame named book_tags.\\nThe 'goodreads_book_id' column is dropped for simplification.\\nThe first few rows of the modified DataFrame are printed for inspection.\""
      ]
     },
     "execution_count": 60,
     "metadata": {},
     "output_type": "execute_result"
    }
   ],
   "source": [
    "'''\n",
    "In this cell:\n",
    "\n",
    "The 'book_tags.csv' file is read into a Pandas DataFrame named book_tags.\n",
    "The 'goodreads_book_id' column is dropped for simplification.\n",
    "The first few rows of the modified DataFrame are printed for inspection.'''"
   ]
  },
  {
   "cell_type": "code",
   "execution_count": 61,
   "metadata": {},
   "outputs": [
    {
     "name": "stdout",
     "output_type": "stream",
     "text": [
      "An error occurred: cannot convert float NaN to integer\n"
     ]
    }
   ],
   "source": [
    "import pandas as pd\n",
    "\n",
    "\n",
    "def recommend_book(ratings_file, to_read_file, books_file, tags_file, book_tags_file):\n",
    "    \"\"\"\n",
    "    Recommends a book based on user-selected tag.\n",
    "\n",
    "    Args:\n",
    "        ratings_file (str): Path to the ratings CSV file.\n",
    "        to_read_file (str): Path to the to-read CSV file.\n",
    "        books_file (str): Path to the books CSV file.\n",
    "        tags_file (str): Path to the tags CSV file.\n",
    "        book_tags_file (str): Path to the book tags CSV file.\n",
    "\n",
    "    Returns:\n",
    "        None\n",
    "    \"\"\"\n",
    "\n",
    "    try:\n",
    "        ratings = pd.read_csv(ratings_file)\n",
    "        to_read = pd.read_csv(to_read_file)\n",
    "\n",
    "        warnings = pd.option_context('mode.chained_assignment', None)  # suppress warnings temporarily\n",
    "        with warnings:\n",
    "            book_tags = pd.read_csv(book_tags_file, dtype={'goodreads_book_id': str, 'tag_id': int})\n",
    "\n",
    "        books = pd.read_csv(books_file)\n",
    "        tags = pd.read_csv(tags_file)\n",
    "\n",
    "        top_tags = (\n",
    "            book_tags.groupby('tag_id')\n",
    "            .count()\n",
    "            .sort_values(by='count', ascending=False)\n",
    "            .reset_index()\n",
    "            .head(10)\n",
    "        )\n",
    "        top_tag_names = tags[tags['tag_id'].isin(top_tags['tag_id'])]['tag_name']\n",
    "\n",
    "        print(\"Top 10 Most Used Tags:\")\n",
    "        print(top_tag_names)\n",
    "\n",
    "        selected_tag = input(\"Please select a tag: \")\n",
    "        selected_tag_id = tags[tags['tag_name'] == selected_tag]['tag_id'].values\n",
    "\n",
    "        if not selected_tag_id:\n",
    "            print(\"Invalid label. Please select an existing tag.\")\n",
    "        else:\n",
    "            selected_tag_id = selected_tag_id[0]\n",
    "            filtered_books = book_tags[book_tags['tag_id'] == selected_tag_id]\n",
    "\n",
    "            if not filtered_books.empty:\n",
    "                random_book_id = filtered_books.sample(1)['goodreads_book_id'].values[0]\n",
    "                selected_book = books[books['book_id'] == random_book_id][['title']]\n",
    "                print(\"Selected Book:\")\n",
    "                print(selected_book)\n",
    "            else:\n",
    "                print(\"No books were found associated with the selected tag.\")\n",
    "\n",
    "    except Exception as e:\n",
    "        print(f\"An error occurred: {e}\")\n",
    "\n",
    "\n",
    "recommend_book(\n",
    "    \"ratings.csv\", \"to_read.csv\", \"books.csv\", \"tags.csv\", \"book_tags.csv\"\n",
    ")"
   ]
  },
  {
   "cell_type": "code",
   "execution_count": 62,
   "metadata": {},
   "outputs": [
    {
     "data": {
      "text/plain": [
       "\"And lastly\\n\\nIn this cell:\\n\\nTags and book tags information are read into Pandas DataFrames (tags and book_tags).\\nThe top 10 most used tags are identified based on their counts in the book_tags DataFrame.\\nUser input is requested to select a tag.\\nIf the selected tag is not valid, an error message is displayed.\\nIf the tag is valid, a random book associated with the selected tag is displayed.\\nIf no books are found for the selected tag, a corresponding message is printed.\\n\\nI choose Horror tag and it's recommend me this book: 1978  Dead Ever After (Sookie Stackhouse, #13)\""
      ]
     },
     "execution_count": 62,
     "metadata": {},
     "output_type": "execute_result"
    }
   ],
   "source": [
    "'''And lastly\n",
    "\n",
    "In this cell:\n",
    "\n",
    "Tags and book tags information are read into Pandas DataFrames (tags and book_tags).\n",
    "The top 10 most used tags are identified based on their counts in the book_tags DataFrame.\n",
    "User input is requested to select a tag.\n",
    "If the selected tag is not valid, an error message is displayed.\n",
    "If the tag is valid, a random book associated with the selected tag is displayed.\n",
    "If no books are found for the selected tag, a corresponding message is printed.\n",
    "\n",
    "I choose Horror tag and it's recommend me this book: 1978  Dead Ever After (Sookie Stackhouse, #13)'''"
   ]
  }
 ],
 "metadata": {
  "kernelspec": {
   "display_name": "Python 3",
   "language": "python",
   "name": "python3"
  },
  "language_info": {
   "codemirror_mode": {
    "name": "ipython",
    "version": 3
   },
   "file_extension": ".py",
   "mimetype": "text/x-python",
   "name": "python",
   "nbconvert_exporter": "python",
   "pygments_lexer": "ipython3",
   "version": "3.12.3"
  }
 },
 "nbformat": 4,
 "nbformat_minor": 2
}
