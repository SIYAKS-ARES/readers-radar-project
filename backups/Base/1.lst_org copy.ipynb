{
 "cells": [
  {
   "cell_type": "code",
   "execution_count": 2,
   "metadata": {},
   "outputs": [],
   "source": [
    "import pandas as pd\n",
    "\n",
    "r = pd.read_csv( 'ratings.csv' )\n",
    "tr = pd.read_csv( 'to_read.csv' )\n",
    "b = pd.read_csv( 'books.csv' )\n",
    "t = pd.read_csv( 'tags.csv' )\n",
    "bt = pd.read_csv( 'book_tags.csv')"
   ]
  },
  {
   "cell_type": "code",
   "execution_count": 3,
   "metadata": {},
   "outputs": [
    {
     "data": {
      "text/plain": [
       "'This cell imports the necessary libraries and reads five CSV files into \\nPandas DataFrames: ratings.csv, to_read.csv, books.csv, tags.csv, and book_tags.csv.'"
      ]
     },
     "execution_count": 3,
     "metadata": {},
     "output_type": "execute_result"
    }
   ],
   "source": [
    "'''This cell imports the necessary libraries and reads five CSV files into \n",
    "Pandas DataFrames: ratings.csv, to_read.csv, books.csv, tags.csv, and book_tags.csv.'''"
   ]
  },
  {
   "cell_type": "code",
   "execution_count": 4,
   "metadata": {},
   "outputs": [
    {
     "data": {
      "text/html": [
       "<div>\n",
       "<style scoped>\n",
       "    .dataframe tbody tr th:only-of-type {\n",
       "        vertical-align: middle;\n",
       "    }\n",
       "\n",
       "    .dataframe tbody tr th {\n",
       "        vertical-align: top;\n",
       "    }\n",
       "\n",
       "    .dataframe thead th {\n",
       "        text-align: right;\n",
       "    }\n",
       "</style>\n",
       "<table border=\"1\" class=\"dataframe\">\n",
       "  <thead>\n",
       "    <tr style=\"text-align: right;\">\n",
       "      <th></th>\n",
       "      <th>book_id</th>\n",
       "      <th>user_id</th>\n",
       "      <th>rating</th>\n",
       "    </tr>\n",
       "  </thead>\n",
       "  <tbody>\n",
       "    <tr>\n",
       "      <th>0</th>\n",
       "      <td>1</td>\n",
       "      <td>314</td>\n",
       "      <td>5</td>\n",
       "    </tr>\n",
       "    <tr>\n",
       "      <th>1</th>\n",
       "      <td>1</td>\n",
       "      <td>439</td>\n",
       "      <td>3</td>\n",
       "    </tr>\n",
       "    <tr>\n",
       "      <th>2</th>\n",
       "      <td>1</td>\n",
       "      <td>588</td>\n",
       "      <td>5</td>\n",
       "    </tr>\n",
       "    <tr>\n",
       "      <th>3</th>\n",
       "      <td>1</td>\n",
       "      <td>1169</td>\n",
       "      <td>4</td>\n",
       "    </tr>\n",
       "    <tr>\n",
       "      <th>4</th>\n",
       "      <td>1</td>\n",
       "      <td>1185</td>\n",
       "      <td>4</td>\n",
       "    </tr>\n",
       "  </tbody>\n",
       "</table>\n",
       "</div>"
      ],
      "text/plain": [
       "   book_id  user_id  rating\n",
       "0        1      314       5\n",
       "1        1      439       3\n",
       "2        1      588       5\n",
       "3        1     1169       4\n",
       "4        1     1185       4"
      ]
     },
     "execution_count": 4,
     "metadata": {},
     "output_type": "execute_result"
    }
   ],
   "source": [
    "r.head()"
   ]
  },
  {
   "cell_type": "code",
   "execution_count": 5,
   "metadata": {},
   "outputs": [
    {
     "data": {
      "text/plain": [
       "981756"
      ]
     },
     "execution_count": 5,
     "metadata": {},
     "output_type": "execute_result"
    }
   ],
   "source": [
    "len(r)"
   ]
  },
  {
   "cell_type": "code",
   "execution_count": 6,
   "metadata": {},
   "outputs": [
    {
     "data": {
      "text/plain": [
       "'This cell calculates and prints the total number of rows in the ratings.csv DataFrame using the len() function.'"
      ]
     },
     "execution_count": 6,
     "metadata": {},
     "output_type": "execute_result"
    }
   ],
   "source": [
    "'''This cell calculates and prints the total number of rows in the ratings.csv DataFrame using the len() function.'''"
   ]
  },
  {
   "cell_type": "code",
   "execution_count": 7,
   "metadata": {},
   "outputs": [
    {
     "data": {
      "text/plain": [
       "<Axes: >"
      ]
     },
     "execution_count": 7,
     "metadata": {},
     "output_type": "execute_result"
    },
    {
     "data": {
      "image/png": "[encoded data removed]",
      "text/plain": [
       "<Figure size 640x480 with 1 Axes>"
      ]
     },
     "metadata": {},
     "output_type": "display_data"
    }
   ],
   "source": [
    "r.rating.hist( bins = 5 )"
   ]
  },
  {
   "cell_type": "code",
   "execution_count": 8,
   "metadata": {},
   "outputs": [
    {
     "data": {
      "text/plain": [
       "\"This cell generates a histogram of the 'rating' column in the ratings.csv DataFrame, dividing the ratings into five bins.\""
      ]
     },
     "execution_count": 8,
     "metadata": {},
     "output_type": "execute_result"
    }
   ],
   "source": [
    "'''This cell generates a histogram of the 'rating' column in the ratings.csv DataFrame, dividing the ratings into five bins.'''"
   ]
  },
  {
   "cell_type": "code",
   "execution_count": 9,
   "metadata": {},
   "outputs": [
    {
     "data": {
      "text/html": [
       "<div>\n",
       "<style scoped>\n",
       "    .dataframe tbody tr th:only-of-type {\n",
       "        vertical-align: middle;\n",
       "    }\n",
       "\n",
       "    .dataframe tbody tr th {\n",
       "        vertical-align: top;\n",
       "    }\n",
       "\n",
       "    .dataframe thead th {\n",
       "        text-align: right;\n",
       "    }\n",
       "</style>\n",
       "<table border=\"1\" class=\"dataframe\">\n",
       "  <thead>\n",
       "    <tr style=\"text-align: right;\">\n",
       "      <th></th>\n",
       "      <th>user_id</th>\n",
       "      <th>book_id</th>\n",
       "    </tr>\n",
       "  </thead>\n",
       "  <tbody>\n",
       "    <tr>\n",
       "      <th>0</th>\n",
       "      <td>1</td>\n",
       "      <td>112</td>\n",
       "    </tr>\n",
       "    <tr>\n",
       "      <th>1</th>\n",
       "      <td>1</td>\n",
       "      <td>235</td>\n",
       "    </tr>\n",
       "    <tr>\n",
       "      <th>2</th>\n",
       "      <td>1</td>\n",
       "      <td>533</td>\n",
       "    </tr>\n",
       "    <tr>\n",
       "      <th>3</th>\n",
       "      <td>1</td>\n",
       "      <td>1198</td>\n",
       "    </tr>\n",
       "    <tr>\n",
       "      <th>4</th>\n",
       "      <td>1</td>\n",
       "      <td>1874</td>\n",
       "    </tr>\n",
       "  </tbody>\n",
       "</table>\n",
       "</div>"
      ],
      "text/plain": [
       "   user_id  book_id\n",
       "0        1      112\n",
       "1        1      235\n",
       "2        1      533\n",
       "3        1     1198\n",
       "4        1     1874"
      ]
     },
     "execution_count": 9,
     "metadata": {},
     "output_type": "execute_result"
    }
   ],
   "source": [
    "tr.head()"
   ]
  },
  {
   "cell_type": "code",
   "execution_count": 10,
   "metadata": {},
   "outputs": [
    {
     "data": {
      "text/plain": [
       "912705"
      ]
     },
     "execution_count": 10,
     "metadata": {},
     "output_type": "execute_result"
    }
   ],
   "source": [
    "len(tr)"
   ]
  },
  {
   "cell_type": "code",
   "execution_count": 11,
   "metadata": {},
   "outputs": [
    {
     "data": {
      "text/plain": [
       "9986"
      ]
     },
     "execution_count": 11,
     "metadata": {},
     "output_type": "execute_result"
    }
   ],
   "source": [
    "len(tr.book_id.unique())"
   ]
  },
  {
   "cell_type": "code",
   "execution_count": 12,
   "metadata": {},
   "outputs": [
    {
     "data": {
      "text/plain": [
       "'This cell calculates and prints the total number of unique book IDs in the to_read.csv DataFrame.'"
      ]
     },
     "execution_count": 12,
     "metadata": {},
     "output_type": "execute_result"
    }
   ],
   "source": [
    "'''This cell calculates and prints the total number of unique book IDs in the to_read.csv DataFrame.'''"
   ]
  },
  {
   "cell_type": "code",
   "execution_count": 13,
   "metadata": {},
   "outputs": [
    {
     "data": {
      "text/plain": [
       "48871"
      ]
     },
     "execution_count": 13,
     "metadata": {},
     "output_type": "execute_result"
    }
   ],
   "source": [
    "len(tr.user_id.unique())"
   ]
  },
  {
   "cell_type": "code",
   "execution_count": 14,
   "metadata": {},
   "outputs": [
    {
     "data": {
      "text/html": [
       "<div>\n",
       "<style scoped>\n",
       "    .dataframe tbody tr th:only-of-type {\n",
       "        vertical-align: middle;\n",
       "    }\n",
       "\n",
       "    .dataframe tbody tr th {\n",
       "        vertical-align: top;\n",
       "    }\n",
       "\n",
       "    .dataframe thead th {\n",
       "        text-align: right;\n",
       "    }\n",
       "</style>\n",
       "<table border=\"1\" class=\"dataframe\">\n",
       "  <thead>\n",
       "    <tr style=\"text-align: right;\">\n",
       "      <th></th>\n",
       "      <th>id</th>\n",
       "      <th>book_id</th>\n",
       "      <th>best_book_id</th>\n",
       "      <th>work_id</th>\n",
       "      <th>books_count</th>\n",
       "      <th>isbn</th>\n",
       "      <th>isbn13</th>\n",
       "      <th>authors</th>\n",
       "      <th>original_publication_year</th>\n",
       "      <th>original_title</th>\n",
       "      <th>...</th>\n",
       "      <th>ratings_count</th>\n",
       "      <th>work_ratings_count</th>\n",
       "      <th>work_text_reviews_count</th>\n",
       "      <th>ratings_1</th>\n",
       "      <th>ratings_2</th>\n",
       "      <th>ratings_3</th>\n",
       "      <th>ratings_4</th>\n",
       "      <th>ratings_5</th>\n",
       "      <th>image_url</th>\n",
       "      <th>small_image_url</th>\n",
       "    </tr>\n",
       "  </thead>\n",
       "  <tbody>\n",
       "    <tr>\n",
       "      <th>0</th>\n",
       "      <td>1</td>\n",
       "      <td>2767052</td>\n",
       "      <td>2767052</td>\n",
       "      <td>2792775</td>\n",
       "      <td>272</td>\n",
       "      <td>439023483</td>\n",
       "      <td>9.780439e+12</td>\n",
       "      <td>Suzanne Collins</td>\n",
       "      <td>2008.0</td>\n",
       "      <td>The Hunger Games</td>\n",
       "      <td>...</td>\n",
       "      <td>4780653</td>\n",
       "      <td>4942365</td>\n",
       "      <td>155254</td>\n",
       "      <td>66715</td>\n",
       "      <td>127936</td>\n",
       "      <td>560092</td>\n",
       "      <td>1481305</td>\n",
       "      <td>2706317</td>\n",
       "      <td>https://images.gr-assets.com/books/1447303603m...</td>\n",
       "      <td>https://images.gr-assets.com/books/1447303603s...</td>\n",
       "    </tr>\n",
       "    <tr>\n",
       "      <th>1</th>\n",
       "      <td>2</td>\n",
       "      <td>3</td>\n",
       "      <td>3</td>\n",
       "      <td>4640799</td>\n",
       "      <td>491</td>\n",
       "      <td>439554934</td>\n",
       "      <td>9.780440e+12</td>\n",
       "      <td>J.K. Rowling, Mary GrandPré</td>\n",
       "      <td>1997.0</td>\n",
       "      <td>Harry Potter and the Philosopher's Stone</td>\n",
       "      <td>...</td>\n",
       "      <td>4602479</td>\n",
       "      <td>4800065</td>\n",
       "      <td>75867</td>\n",
       "      <td>75504</td>\n",
       "      <td>101676</td>\n",
       "      <td>455024</td>\n",
       "      <td>1156318</td>\n",
       "      <td>3011543</td>\n",
       "      <td>https://images.gr-assets.com/books/1474154022m...</td>\n",
       "      <td>https://images.gr-assets.com/books/1474154022s...</td>\n",
       "    </tr>\n",
       "    <tr>\n",
       "      <th>2</th>\n",
       "      <td>3</td>\n",
       "      <td>41865</td>\n",
       "      <td>41865</td>\n",
       "      <td>3212258</td>\n",
       "      <td>226</td>\n",
       "      <td>316015849</td>\n",
       "      <td>9.780316e+12</td>\n",
       "      <td>Stephenie Meyer</td>\n",
       "      <td>2005.0</td>\n",
       "      <td>Twilight</td>\n",
       "      <td>...</td>\n",
       "      <td>3866839</td>\n",
       "      <td>3916824</td>\n",
       "      <td>95009</td>\n",
       "      <td>456191</td>\n",
       "      <td>436802</td>\n",
       "      <td>793319</td>\n",
       "      <td>875073</td>\n",
       "      <td>1355439</td>\n",
       "      <td>https://images.gr-assets.com/books/1361039443m...</td>\n",
       "      <td>https://images.gr-assets.com/books/1361039443s...</td>\n",
       "    </tr>\n",
       "    <tr>\n",
       "      <th>3</th>\n",
       "      <td>4</td>\n",
       "      <td>2657</td>\n",
       "      <td>2657</td>\n",
       "      <td>3275794</td>\n",
       "      <td>487</td>\n",
       "      <td>61120081</td>\n",
       "      <td>9.780061e+12</td>\n",
       "      <td>Harper Lee</td>\n",
       "      <td>1960.0</td>\n",
       "      <td>To Kill a Mockingbird</td>\n",
       "      <td>...</td>\n",
       "      <td>3198671</td>\n",
       "      <td>3340896</td>\n",
       "      <td>72586</td>\n",
       "      <td>60427</td>\n",
       "      <td>117415</td>\n",
       "      <td>446835</td>\n",
       "      <td>1001952</td>\n",
       "      <td>1714267</td>\n",
       "      <td>https://images.gr-assets.com/books/1361975680m...</td>\n",
       "      <td>https://images.gr-assets.com/books/1361975680s...</td>\n",
       "    </tr>\n",
       "    <tr>\n",
       "      <th>4</th>\n",
       "      <td>5</td>\n",
       "      <td>4671</td>\n",
       "      <td>4671</td>\n",
       "      <td>245494</td>\n",
       "      <td>1356</td>\n",
       "      <td>743273567</td>\n",
       "      <td>9.780743e+12</td>\n",
       "      <td>F. Scott Fitzgerald</td>\n",
       "      <td>1925.0</td>\n",
       "      <td>The Great Gatsby</td>\n",
       "      <td>...</td>\n",
       "      <td>2683664</td>\n",
       "      <td>2773745</td>\n",
       "      <td>51992</td>\n",
       "      <td>86236</td>\n",
       "      <td>197621</td>\n",
       "      <td>606158</td>\n",
       "      <td>936012</td>\n",
       "      <td>947718</td>\n",
       "      <td>https://images.gr-assets.com/books/1490528560m...</td>\n",
       "      <td>https://images.gr-assets.com/books/1490528560s...</td>\n",
       "    </tr>\n",
       "  </tbody>\n",
       "</table>\n",
       "<p>5 rows × 23 columns</p>\n",
       "</div>"
      ],
      "text/plain": [
       "   id  book_id  best_book_id  work_id  books_count       isbn        isbn13  \\\n",
       "0   1  2767052       2767052  2792775          272  439023483  9.780439e+12   \n",
       "1   2        3             3  4640799          491  439554934  9.780440e+12   \n",
       "2   3    41865         41865  3212258          226  316015849  9.780316e+12   \n",
       "3   4     2657          2657  3275794          487   61120081  9.780061e+12   \n",
       "4   5     4671          4671   245494         1356  743273567  9.780743e+12   \n",
       "\n",
       "                       authors  original_publication_year  \\\n",
       "0              Suzanne Collins                     2008.0   \n",
       "1  J.K. Rowling, Mary GrandPré                     1997.0   \n",
       "2              Stephenie Meyer                     2005.0   \n",
       "3                   Harper Lee                     1960.0   \n",
       "4          F. Scott Fitzgerald                     1925.0   \n",
       "\n",
       "                             original_title  ... ratings_count  \\\n",
       "0                          The Hunger Games  ...       4780653   \n",
       "1  Harry Potter and the Philosopher's Stone  ...       4602479   \n",
       "2                                  Twilight  ...       3866839   \n",
       "3                     To Kill a Mockingbird  ...       3198671   \n",
       "4                          The Great Gatsby  ...       2683664   \n",
       "\n",
       "  work_ratings_count  work_text_reviews_count  ratings_1  ratings_2  \\\n",
       "0            4942365                   155254      66715     127936   \n",
       "1            4800065                    75867      75504     101676   \n",
       "2            3916824                    95009     456191     436802   \n",
       "3            3340896                    72586      60427     117415   \n",
       "4            2773745                    51992      86236     197621   \n",
       "\n",
       "   ratings_3  ratings_4  ratings_5  \\\n",
       "0     560092    1481305    2706317   \n",
       "1     455024    1156318    3011543   \n",
       "2     793319     875073    1355439   \n",
       "3     446835    1001952    1714267   \n",
       "4     606158     936012     947718   \n",
       "\n",
       "                                           image_url  \\\n",
       "0  https://images.gr-assets.com/books/1447303603m...   \n",
       "1  https://images.gr-assets.com/books/1474154022m...   \n",
       "2  https://images.gr-assets.com/books/1361039443m...   \n",
       "3  https://images.gr-assets.com/books/1361975680m...   \n",
       "4  https://images.gr-assets.com/books/1490528560m...   \n",
       "\n",
       "                                     small_image_url  \n",
       "0  https://images.gr-assets.com/books/1447303603s...  \n",
       "1  https://images.gr-assets.com/books/1474154022s...  \n",
       "2  https://images.gr-assets.com/books/1361039443s...  \n",
       "3  https://images.gr-assets.com/books/1361975680s...  \n",
       "4  https://images.gr-assets.com/books/1490528560s...  \n",
       "\n",
       "[5 rows x 23 columns]"
      ]
     },
     "execution_count": 14,
     "metadata": {},
     "output_type": "execute_result"
    }
   ],
   "source": [
    "b.head()"
   ]
  },
  {
   "cell_type": "code",
   "execution_count": 15,
   "metadata": {},
   "outputs": [
    {
     "data": {
      "text/plain": [
       "10000"
      ]
     },
     "execution_count": 15,
     "metadata": {},
     "output_type": "execute_result"
    }
   ],
   "source": [
    "len(b)"
   ]
  },
  {
   "cell_type": "code",
   "execution_count": 16,
   "metadata": {},
   "outputs": [
    {
     "data": {
      "text/plain": [
       "53424"
      ]
     },
     "execution_count": 16,
     "metadata": {},
     "output_type": "execute_result"
    }
   ],
   "source": [
    "r.user_id.max()"
   ]
  },
  {
   "cell_type": "code",
   "execution_count": 17,
   "metadata": {},
   "outputs": [
    {
     "data": {
      "text/plain": [
       "'This cell calculates and prints the maximum user ID in the ratings.csv DataFrame.'"
      ]
     },
     "execution_count": 17,
     "metadata": {},
     "output_type": "execute_result"
    }
   ],
   "source": [
    "'''This cell calculates and prints the maximum user ID in the ratings.csv DataFrame.'''"
   ]
  },
  {
   "cell_type": "code",
   "execution_count": 18,
   "metadata": {},
   "outputs": [
    {
     "data": {
      "text/plain": [
       "10000"
      ]
     },
     "execution_count": 18,
     "metadata": {},
     "output_type": "execute_result"
    }
   ],
   "source": [
    "r.book_id.max()"
   ]
  },
  {
   "cell_type": "code",
   "execution_count": 19,
   "metadata": {},
   "outputs": [],
   "source": [
    "assert( len( r.user_id.unique()) == r.user_id.max())\n",
    "assert( len( r.book_id.unique()) == r.book_id.max())"
   ]
  },
  {
   "cell_type": "code",
   "execution_count": 20,
   "metadata": {},
   "outputs": [
    {
     "data": {
      "text/plain": [
       "'This cell uses assertions to check if the number of unique user \\nIDs and book IDs in the ratings.csv DataFrame matches the maximum user ID and book ID, respectively.'"
      ]
     },
     "execution_count": 20,
     "metadata": {},
     "output_type": "execute_result"
    }
   ],
   "source": [
    "'''This cell uses assertions to check if the number of unique user \n",
    "IDs and book IDs in the ratings.csv DataFrame matches the maximum user ID and book ID, respectively.'''"
   ]
  },
  {
   "cell_type": "code",
   "execution_count": 21,
   "metadata": {},
   "outputs": [
    {
     "data": {
      "text/plain": [
       "count    10000.000000\n",
       "mean        98.175600\n",
       "std          5.690167\n",
       "min          8.000000\n",
       "25%         99.000000\n",
       "50%        100.000000\n",
       "75%        100.000000\n",
       "max        100.000000\n",
       "Name: book_id, dtype: float64"
      ]
     },
     "execution_count": 21,
     "metadata": {},
     "output_type": "execute_result"
    }
   ],
   "source": [
    "reviews_per_book = r.groupby( 'book_id' ).book_id.apply( lambda x: len( x ))\n",
    "reviews_per_book.describe()"
   ]
  },
  {
   "cell_type": "code",
   "execution_count": 22,
   "metadata": {},
   "outputs": [
    {
     "data": {
      "text/plain": [
       "'This cell calculates and displays descriptive statistics for the number of reviews per book in the ratings.csv DataFrame.'"
      ]
     },
     "execution_count": 22,
     "metadata": {},
     "output_type": "execute_result"
    }
   ],
   "source": [
    "'''This cell calculates and displays descriptive statistics for the number of reviews per book in the ratings.csv DataFrame.'''"
   ]
  },
  {
   "cell_type": "code",
   "execution_count": 23,
   "metadata": {},
   "outputs": [
    {
     "data": {
      "text/plain": [
       "book_id\n",
       "7803     8\n",
       "9345    11\n",
       "9486    24\n",
       "1935    34\n",
       "9315    36\n",
       "9553    41\n",
       "8181    44\n",
       "9260    46\n",
       "9479    47\n",
       "9705    48\n",
       "Name: book_id, dtype: int64"
      ]
     },
     "execution_count": 23,
     "metadata": {},
     "output_type": "execute_result"
    }
   ],
   "source": [
    "reviews_per_book.sort_values().head( 10 )"
   ]
  },
  {
   "cell_type": "code",
   "execution_count": 24,
   "metadata": {},
   "outputs": [
    {
     "data": {
      "text/plain": [
       "'This cell displays the ten books with the lowest number of reviews, sorted in ascending order.'"
      ]
     },
     "execution_count": 24,
     "metadata": {},
     "output_type": "execute_result"
    }
   ],
   "source": [
    "'''This cell displays the ten books with the lowest number of reviews, sorted in ascending order.'''"
   ]
  },
  {
   "cell_type": "code",
   "execution_count": 25,
   "metadata": {},
   "outputs": [
    {
     "data": {
      "text/plain": [
       "count    53424.000000\n",
       "mean        18.376685\n",
       "std         26.268690\n",
       "min          2.000000\n",
       "25%          3.000000\n",
       "50%          8.000000\n",
       "75%         22.000000\n",
       "max        200.000000\n",
       "Name: user_id, dtype: float64"
      ]
     },
     "execution_count": 25,
     "metadata": {},
     "output_type": "execute_result"
    }
   ],
   "source": [
    "reviews_per_user = r.groupby( 'user_id' ).user_id.apply( lambda x: len( x ))\n",
    "reviews_per_user.describe()"
   ]
  },
  {
   "cell_type": "code",
   "execution_count": 26,
   "metadata": {},
   "outputs": [
    {
     "data": {
      "text/plain": [
       "'This cell calculates and displays descriptive statistics for the number of reviews per user in the ratings.csv DataFrame.'"
      ]
     },
     "execution_count": 26,
     "metadata": {},
     "output_type": "execute_result"
    }
   ],
   "source": [
    "'''This cell calculates and displays descriptive statistics for the number of reviews per user in the ratings.csv DataFrame.'''"
   ]
  },
  {
   "cell_type": "code",
   "execution_count": 27,
   "metadata": {},
   "outputs": [
    {
     "data": {
      "text/plain": [
       "user_id\n",
       "9253     2\n",
       "28673    2\n",
       "42222    2\n",
       "21323    2\n",
       "42219    2\n",
       "42214    2\n",
       "42209    2\n",
       "21321    2\n",
       "9964     2\n",
       "9944     2\n",
       "Name: user_id, dtype: int64"
      ]
     },
     "execution_count": 27,
     "metadata": {},
     "output_type": "execute_result"
    }
   ],
   "source": [
    "reviews_per_user.sort_values().head( 10 )"
   ]
  },
  {
   "cell_type": "code",
   "execution_count": 28,
   "metadata": {},
   "outputs": [
    {
     "data": {
      "text/html": [
       "<div>\n",
       "<style scoped>\n",
       "    .dataframe tbody tr th:only-of-type {\n",
       "        vertical-align: middle;\n",
       "    }\n",
       "\n",
       "    .dataframe tbody tr th {\n",
       "        vertical-align: top;\n",
       "    }\n",
       "\n",
       "    .dataframe thead th {\n",
       "        text-align: right;\n",
       "    }\n",
       "</style>\n",
       "<table border=\"1\" class=\"dataframe\">\n",
       "  <thead>\n",
       "    <tr style=\"text-align: right;\">\n",
       "      <th></th>\n",
       "      <th>tag_id</th>\n",
       "      <th>tag_name</th>\n",
       "    </tr>\n",
       "  </thead>\n",
       "  <tbody>\n",
       "    <tr>\n",
       "      <th>0</th>\n",
       "      <td>0</td>\n",
       "      <td>-</td>\n",
       "    </tr>\n",
       "    <tr>\n",
       "      <th>1</th>\n",
       "      <td>1</td>\n",
       "      <td>--1-</td>\n",
       "    </tr>\n",
       "    <tr>\n",
       "      <th>2</th>\n",
       "      <td>2</td>\n",
       "      <td>--10-</td>\n",
       "    </tr>\n",
       "    <tr>\n",
       "      <th>3</th>\n",
       "      <td>3</td>\n",
       "      <td>--12-</td>\n",
       "    </tr>\n",
       "    <tr>\n",
       "      <th>4</th>\n",
       "      <td>4</td>\n",
       "      <td>--122-</td>\n",
       "    </tr>\n",
       "  </tbody>\n",
       "</table>\n",
       "</div>"
      ],
      "text/plain": [
       "   tag_id tag_name\n",
       "0       0        -\n",
       "1       1     --1-\n",
       "2       2    --10-\n",
       "3       3    --12-\n",
       "4       4   --122-"
      ]
     },
     "execution_count": 28,
     "metadata": {},
     "output_type": "execute_result"
    }
   ],
   "source": [
    "import matplotlib.pyplot as plt\n",
    "\n",
    "t.head()"
   ]
  },
  {
   "cell_type": "code",
   "execution_count": 29,
   "metadata": {},
   "outputs": [
    {
     "data": {
      "text/plain": [
       "'This cell imports the matplotlib.pyplot library and displays the first few rows of the tags.csv DataFrame.'"
      ]
     },
     "execution_count": 29,
     "metadata": {},
     "output_type": "execute_result"
    }
   ],
   "source": [
    "'''This cell imports the matplotlib.pyplot library and displays the first few rows of the tags.csv DataFrame.'''"
   ]
  },
  {
   "cell_type": "code",
   "execution_count": 30,
   "metadata": {},
   "outputs": [
    {
     "name": "stderr",
     "output_type": "stream",
     "text": [
      "C:\\Users\\meddi\\AppData\\Local\\Temp\\ipykernel_17020\\2682743247.py:3: FutureWarning: Setting an item of incompatible dtype is deprecated and will raise in a future error of pandas. Value 'Fiction' has dtype incompatible with int64, please explicitly cast to a compatible dtype first.\n",
      "  t[t['tag_name'].str.contains(\"fiction\")] = \"Fiction\"\n"
     ]
    },
    {
     "data": {
      "image/png": "[encoded data removed]",
      "text/plain": [
       "<Figure size 1200x600 with 1 Axes>"
      ]
     },
     "metadata": {},
     "output_type": "display_data"
    }
   ],
   "source": [
    "import matplotlib.pyplot as plt\n",
    "\n",
    "t[t['tag_name'].str.contains(\"fiction\")] = \"Fiction\"\n",
    "t[t['tag_name'].str.contains(\"football\")] = \"Football\"\n",
    "t[t['tag_name'].str.contains(\"horror\")] = \"Horror\"\n",
    "t[t['tag_name'].str.contains(\"crime\")] = \"Crime\"\n",
    "t[t['tag_name'].str.contains(\"detective\")] = \"Detective\"\n",
    "t[t['tag_name'].str.contains(\"manga\")] = \"Manga\"\n",
    "t[t['tag_name'].str.contains(\"read\")] = \"To Read\"\n",
    "t[t['tag_name'].str.contains(\"american\")] = \"American\"\n",
    "t[t['tag_name'].str.contains(\"children\")] = \"Children\"\n",
    "t[t['tag_name'].str.contains(\"chinese\")] = \"Chinese\"\n",
    "t[t['tag_name'].str.contains(\"church\")] = \"Church\"\n",
    "t[t['tag_name'].str.contains(\"ancient\")] = \"Ancient History\"\n",
    "t[t['tag_name'].str.contains(\"alien\")] = \"Alien\"\n",
    "t[t['tag_name'].str.contains(\"apocalyptic\")] = \"Apocalyptic\"\n",
    "t[t['tag_name'].str.contains(\"greek\")] = \"Greek\"\n",
    "t[t['tag_name'].str.contains(\"romance\")] = \"Romance\"\n",
    "t[t['tag_name'].str.contains(\"thriller\")] = \"Thrilling Thrillers\"\n",
    "\n",
    "selected_tags = ['Fiction', 'Football', 'Horror', 'Crime', 'Detective', 'Manga', 'To Read', 'American',\n",
    "                 'Children', 'Chinese', 'Church', 'Ancient History', 'Alien', 'Apocalyptic', 'Greek',\n",
    "                 'Romance', 'Thrilling Thrillers']\n",
    "tag_frequencies = t[t['tag_name'].isin(selected_tags)]['tag_name'].value_counts()\n",
    "plt.figure(figsize=(12, 6))\n",
    "tag_frequencies.plot(kind='bar', color='skyblue')\n",
    "plt.xlabel('Tag')\n",
    "plt.ylabel('Frekans')\n",
    "plt.title('Seçilen Tag\\'lerin Frekansları')\n",
    "plt.xticks(rotation=45)\n",
    "plt.show()"
   ]
  },
  {
   "cell_type": "code",
   "execution_count": null,
   "metadata": {},
   "outputs": [],
   "source": [
    "'''I tried to gather the names of the tags under one roof here. I had quite a few trials, but as I mentioned before, there are 35k tags and it’s impossible to reorganize them all from scratch. This was one of the reasons why this project was very challenging.\n",
    "Afterwards, I sorted them from the most to the least books and visualized it'''"
   ]
  },
  {
   "cell_type": "code",
   "execution_count": 31,
   "metadata": {},
   "outputs": [
    {
     "data": {
      "text/plain": [
       "34252"
      ]
     },
     "execution_count": 31,
     "metadata": {},
     "output_type": "execute_result"
    }
   ],
   "source": [
    "len(t)"
   ]
  },
  {
   "cell_type": "code",
   "execution_count": 32,
   "metadata": {},
   "outputs": [
    {
     "data": {
      "text/html": [
       "<div>\n",
       "<style scoped>\n",
       "    .dataframe tbody tr th:only-of-type {\n",
       "        vertical-align: middle;\n",
       "    }\n",
       "\n",
       "    .dataframe tbody tr th {\n",
       "        vertical-align: top;\n",
       "    }\n",
       "\n",
       "    .dataframe thead th {\n",
       "        text-align: right;\n",
       "    }\n",
       "</style>\n",
       "<table border=\"1\" class=\"dataframe\">\n",
       "  <thead>\n",
       "    <tr style=\"text-align: right;\">\n",
       "      <th></th>\n",
       "      <th>goodreads_book_id</th>\n",
       "      <th>tag_id</th>\n",
       "      <th>count</th>\n",
       "    </tr>\n",
       "  </thead>\n",
       "  <tbody>\n",
       "    <tr>\n",
       "      <th>0</th>\n",
       "      <td>1</td>\n",
       "      <td>30574</td>\n",
       "      <td>167697</td>\n",
       "    </tr>\n",
       "    <tr>\n",
       "      <th>1</th>\n",
       "      <td>1</td>\n",
       "      <td>11305</td>\n",
       "      <td>37174</td>\n",
       "    </tr>\n",
       "    <tr>\n",
       "      <th>2</th>\n",
       "      <td>1</td>\n",
       "      <td>11557</td>\n",
       "      <td>34173</td>\n",
       "    </tr>\n",
       "    <tr>\n",
       "      <th>3</th>\n",
       "      <td>1</td>\n",
       "      <td>8717</td>\n",
       "      <td>12986</td>\n",
       "    </tr>\n",
       "    <tr>\n",
       "      <th>4</th>\n",
       "      <td>1</td>\n",
       "      <td>33114</td>\n",
       "      <td>12716</td>\n",
       "    </tr>\n",
       "  </tbody>\n",
       "</table>\n",
       "</div>"
      ],
      "text/plain": [
       "   goodreads_book_id  tag_id   count\n",
       "0                  1   30574  167697\n",
       "1                  1   11305   37174\n",
       "2                  1   11557   34173\n",
       "3                  1    8717   12986\n",
       "4                  1   33114   12716"
      ]
     },
     "execution_count": 32,
     "metadata": {},
     "output_type": "execute_result"
    }
   ],
   "source": [
    "bt.head()"
   ]
  },
  {
   "cell_type": "code",
   "execution_count": 33,
   "metadata": {},
   "outputs": [
    {
     "data": {
      "text/plain": [
       "999912"
      ]
     },
     "execution_count": 33,
     "metadata": {},
     "output_type": "execute_result"
    }
   ],
   "source": [
    "len(bt)"
   ]
  },
  {
   "cell_type": "code",
   "execution_count": 34,
   "metadata": {},
   "outputs": [],
   "source": [
    "bt = bt.merge( t, on = 'tag_id' )"
   ]
  },
  {
   "cell_type": "code",
   "execution_count": null,
   "metadata": {},
   "outputs": [],
   "source": [
    "'''The code bt = bt.merge(t, on='tag_id') merges two DataFrames (bt and t) based on the common column 'tag_id',\n",
    "combining information about book tags and general tag details into a single DataFrame (bt).'''"
   ]
  },
  {
   "cell_type": "code",
   "execution_count": 35,
   "metadata": {},
   "outputs": [
    {
     "name": "stdout",
     "output_type": "stream",
     "text": [
      "Index(['id', 'book_id', 'best_book_id', 'work_id', 'books_count', 'isbn',\n",
      "       'isbn13', 'authors', 'original_publication_year', 'original_title',\n",
      "       'title', 'language_code', 'average_rating', 'ratings_count',\n",
      "       'work_ratings_count', 'work_text_reviews_count', 'ratings_1',\n",
      "       'ratings_2', 'ratings_3', 'ratings_4', 'ratings_5', 'image_url',\n",
      "       'small_image_url'],\n",
      "      dtype='object')\n"
     ]
    }
   ],
   "source": [
    "print(b.columns)"
   ]
  },
  {
   "cell_type": "code",
   "execution_count": 36,
   "metadata": {},
   "outputs": [
    {
     "data": {
      "text/html": [
       "<div>\n",
       "<style scoped>\n",
       "    .dataframe tbody tr th:only-of-type {\n",
       "        vertical-align: middle;\n",
       "    }\n",
       "\n",
       "    .dataframe tbody tr th {\n",
       "        vertical-align: top;\n",
       "    }\n",
       "\n",
       "    .dataframe thead th {\n",
       "        text-align: right;\n",
       "    }\n",
       "</style>\n",
       "<table border=\"1\" class=\"dataframe\">\n",
       "  <thead>\n",
       "    <tr style=\"text-align: right;\">\n",
       "      <th></th>\n",
       "      <th>tag_id</th>\n",
       "      <th>count</th>\n",
       "      <th>tag_name_x</th>\n",
       "      <th>tag_name_y</th>\n",
       "      <th>book_id</th>\n",
       "      <th>title</th>\n",
       "    </tr>\n",
       "  </thead>\n",
       "  <tbody>\n",
       "    <tr>\n",
       "      <th>42784</th>\n",
       "      <td>23831</td>\n",
       "      <td>86</td>\n",
       "      <td>poetry</td>\n",
       "      <td>poetry</td>\n",
       "      <td>18525</td>\n",
       "      <td>Dr. Faustus</td>\n",
       "    </tr>\n",
       "    <tr>\n",
       "      <th>254442</th>\n",
       "      <td>11557</td>\n",
       "      <td>7767</td>\n",
       "      <td>favorites</td>\n",
       "      <td>favorites</td>\n",
       "      <td>9361589</td>\n",
       "      <td>The Night Circus</td>\n",
       "    </tr>\n",
       "    <tr>\n",
       "      <th>251715</th>\n",
       "      <td>11305</td>\n",
       "      <td>5269</td>\n",
       "      <td>fantasy</td>\n",
       "      <td>fantasy</td>\n",
       "      <td>8755776</td>\n",
       "      <td>City of Lost Souls (The Mortal Instruments, #5)</td>\n",
       "    </tr>\n",
       "    <tr>\n",
       "      <th>356848</th>\n",
       "      <td>4949</td>\n",
       "      <td>1025</td>\n",
       "      <td>book-club</td>\n",
       "      <td>book-club</td>\n",
       "      <td>7244</td>\n",
       "      <td>The Poisonwood Bible</td>\n",
       "    </tr>\n",
       "    <tr>\n",
       "      <th>257432</th>\n",
       "      <td>33114</td>\n",
       "      <td>2286</td>\n",
       "      <td>young-adult</td>\n",
       "      <td>young-adult</td>\n",
       "      <td>9593913</td>\n",
       "      <td>Requiem (Delirium, #3)</td>\n",
       "    </tr>\n",
       "    <tr>\n",
       "      <th>478136</th>\n",
       "      <td>11579</td>\n",
       "      <td>153</td>\n",
       "      <td>favourite-books</td>\n",
       "      <td>favourite-books</td>\n",
       "      <td>99561</td>\n",
       "      <td>Looking for Alaska</td>\n",
       "    </tr>\n",
       "    <tr>\n",
       "      <th>83864</th>\n",
       "      <td>236</td>\n",
       "      <td>189</td>\n",
       "      <td>1001</td>\n",
       "      <td>1001</td>\n",
       "      <td>51496</td>\n",
       "      <td>The Strange Case of Dr. Jekyll and Mr. Hyde</td>\n",
       "    </tr>\n",
       "    <tr>\n",
       "      <th>532979</th>\n",
       "      <td>25685</td>\n",
       "      <td>34</td>\n",
       "      <td>religious</td>\n",
       "      <td>religious</td>\n",
       "      <td>347656</td>\n",
       "      <td>Don't Waste Your Life</td>\n",
       "    </tr>\n",
       "    <tr>\n",
       "      <th>502281</th>\n",
       "      <td>16563</td>\n",
       "      <td>66</td>\n",
       "      <td>john-steinbeck</td>\n",
       "      <td>john-steinbeck</td>\n",
       "      <td>163977</td>\n",
       "      <td>Tortilla Flat</td>\n",
       "    </tr>\n",
       "    <tr>\n",
       "      <th>448110</th>\n",
       "      <td>26216</td>\n",
       "      <td>10</td>\n",
       "      <td>romanzi</td>\n",
       "      <td>romanzi</td>\n",
       "      <td>61266</td>\n",
       "      <td>Novecento. Un monologo</td>\n",
       "    </tr>\n",
       "  </tbody>\n",
       "</table>\n",
       "</div>"
      ],
      "text/plain": [
       "       tag_id  count       tag_name_x       tag_name_y  book_id  \\\n",
       "42784   23831     86           poetry           poetry    18525   \n",
       "254442  11557   7767        favorites        favorites  9361589   \n",
       "251715  11305   5269          fantasy          fantasy  8755776   \n",
       "356848   4949   1025        book-club        book-club     7244   \n",
       "257432  33114   2286      young-adult      young-adult  9593913   \n",
       "478136  11579    153  favourite-books  favourite-books    99561   \n",
       "83864     236    189             1001             1001    51496   \n",
       "532979  25685     34        religious        religious   347656   \n",
       "502281  16563     66   john-steinbeck   john-steinbeck   163977   \n",
       "448110  26216     10          romanzi          romanzi    61266   \n",
       "\n",
       "                                                  title  \n",
       "42784                                       Dr. Faustus  \n",
       "254442                                 The Night Circus  \n",
       "251715  City of Lost Souls (The Mortal Instruments, #5)  \n",
       "356848                             The Poisonwood Bible  \n",
       "257432                           Requiem (Delirium, #3)  \n",
       "478136                               Looking for Alaska  \n",
       "83864       The Strange Case of Dr. Jekyll and Mr. Hyde  \n",
       "532979                            Don't Waste Your Life  \n",
       "502281                                    Tortilla Flat  \n",
       "448110                           Novecento. Un monologo  "
      ]
     },
     "execution_count": 36,
     "metadata": {},
     "output_type": "execute_result"
    }
   ],
   "source": [
    "bt = bt.merge(t, on='tag_id')\n",
    "bt = bt.merge(b[['book_id', 'title']], left_on='goodreads_book_id', right_on='book_id')\n",
    "bt.loc[bt['count'] < 0, 'count'] = 0\n",
    "bt.drop(columns=['goodreads_book_id'], inplace=True)\n",
    "bt.sample(10, weights='count')"
   ]
  },
  {
   "cell_type": "code",
   "execution_count": null,
   "metadata": {},
   "outputs": [],
   "source": [
    "'''Merging Tags and Book Data:\n",
    "\n",
    "Combine information about book tags, general tags, and book titles.\n",
    "Data Cleaning:\n",
    "\n",
    "Ensure non-negative counts and remove redundant columns.\n",
    "Sampling Data:\n",
    "\n",
    "Take a sample of 10 rows, considering count values for weighting.'''"
   ]
  },
  {
   "cell_type": "code",
   "execution_count": 37,
   "metadata": {},
   "outputs": [
    {
     "data": {
      "text/plain": [
       "count    754733.000000\n",
       "mean         60.671644\n",
       "std         358.587989\n",
       "min           0.000000\n",
       "25%           7.000000\n",
       "50%          15.000000\n",
       "75%          38.000000\n",
       "max       50755.000000\n",
       "Name: count, dtype: float64"
      ]
     },
     "execution_count": 37,
     "metadata": {},
     "output_type": "execute_result"
    }
   ],
   "source": [
    "bt['count'].describe()"
   ]
  },
  {
   "cell_type": "code",
   "execution_count": 38,
   "metadata": {},
   "outputs": [],
   "source": [
    "bt.loc[ bt['count'] < 0, 'count'] = 0"
   ]
  },
  {
   "cell_type": "code",
   "execution_count": 39,
   "metadata": {},
   "outputs": [
    {
     "data": {
      "text/html": [
       "<div>\n",
       "<style scoped>\n",
       "    .dataframe tbody tr th:only-of-type {\n",
       "        vertical-align: middle;\n",
       "    }\n",
       "\n",
       "    .dataframe tbody tr th {\n",
       "        vertical-align: top;\n",
       "    }\n",
       "\n",
       "    .dataframe thead th {\n",
       "        text-align: right;\n",
       "    }\n",
       "</style>\n",
       "<table border=\"1\" class=\"dataframe\">\n",
       "  <thead>\n",
       "    <tr style=\"text-align: right;\">\n",
       "      <th></th>\n",
       "      <th>tag_id</th>\n",
       "      <th>count</th>\n",
       "      <th>tag_name_x</th>\n",
       "      <th>tag_name_y</th>\n",
       "      <th>book_id</th>\n",
       "      <th>title</th>\n",
       "    </tr>\n",
       "  </thead>\n",
       "  <tbody>\n",
       "    <tr>\n",
       "      <th>607814</th>\n",
       "      <td>4615</td>\n",
       "      <td>56</td>\n",
       "      <td>biography-memoir</td>\n",
       "      <td>biography-memoir</td>\n",
       "      <td>6480781</td>\n",
       "      <td>Open</td>\n",
       "    </tr>\n",
       "    <tr>\n",
       "      <th>294313</th>\n",
       "      <td>26897</td>\n",
       "      <td>19</td>\n",
       "      <td>scifi-fantasy</td>\n",
       "      <td>scifi-fantasy</td>\n",
       "      <td>16071748</td>\n",
       "      <td>Hunted (The Iron Druid Chronicles, #6)</td>\n",
       "    </tr>\n",
       "    <tr>\n",
       "      <th>325606</th>\n",
       "      <td>18292</td>\n",
       "      <td>108</td>\n",
       "      <td>lit</td>\n",
       "      <td>lit</td>\n",
       "      <td>320</td>\n",
       "      <td>One Hundred Years of Solitude</td>\n",
       "    </tr>\n",
       "    <tr>\n",
       "      <th>151001</th>\n",
       "      <td>14358</td>\n",
       "      <td>7</td>\n",
       "      <td>high</td>\n",
       "      <td>high</td>\n",
       "      <td>279561</td>\n",
       "      <td>Broken Angels (Takeshi Kovacs, #2)</td>\n",
       "    </tr>\n",
       "    <tr>\n",
       "      <th>341672</th>\n",
       "      <td>4615</td>\n",
       "      <td>53</td>\n",
       "      <td>biography-memoir</td>\n",
       "      <td>biography-memoir</td>\n",
       "      <td>4507</td>\n",
       "      <td>Sickened: The Memoir of a Munchausen by Proxy ...</td>\n",
       "    </tr>\n",
       "    <tr>\n",
       "      <th>261080</th>\n",
       "      <td>11305</td>\n",
       "      <td>4354</td>\n",
       "      <td>fantasy</td>\n",
       "      <td>fantasy</td>\n",
       "      <td>10194157</td>\n",
       "      <td>Shadow and Bone (Shadow and Bone, #1)</td>\n",
       "    </tr>\n",
       "    <tr>\n",
       "      <th>330880</th>\n",
       "      <td>11557</td>\n",
       "      <td>31163</td>\n",
       "      <td>favorites</td>\n",
       "      <td>favorites</td>\n",
       "      <td>1885</td>\n",
       "      <td>Pride and Prejudice</td>\n",
       "    </tr>\n",
       "    <tr>\n",
       "      <th>351887</th>\n",
       "      <td>371</td>\n",
       "      <td>28</td>\n",
       "      <td>1800s</td>\n",
       "      <td>1800s</td>\n",
       "      <td>6138</td>\n",
       "      <td>The Moonstone</td>\n",
       "    </tr>\n",
       "    <tr>\n",
       "      <th>159178</th>\n",
       "      <td>33114</td>\n",
       "      <td>7</td>\n",
       "      <td>young-adult</td>\n",
       "      <td>young-adult</td>\n",
       "      <td>356321</td>\n",
       "      <td>The Story of Babar</td>\n",
       "    </tr>\n",
       "    <tr>\n",
       "      <th>462322</th>\n",
       "      <td>27199</td>\n",
       "      <td>48</td>\n",
       "      <td>series</td>\n",
       "      <td>series</td>\n",
       "      <td>80670</td>\n",
       "      <td>Otherwise Known as Sheila the Great (Fudge #2)</td>\n",
       "    </tr>\n",
       "  </tbody>\n",
       "</table>\n",
       "</div>"
      ],
      "text/plain": [
       "       tag_id  count        tag_name_x        tag_name_y   book_id  \\\n",
       "607814   4615     56  biography-memoir  biography-memoir   6480781   \n",
       "294313  26897     19     scifi-fantasy     scifi-fantasy  16071748   \n",
       "325606  18292    108               lit               lit       320   \n",
       "151001  14358      7              high              high    279561   \n",
       "341672   4615     53  biography-memoir  biography-memoir      4507   \n",
       "261080  11305   4354           fantasy           fantasy  10194157   \n",
       "330880  11557  31163         favorites         favorites      1885   \n",
       "351887    371     28             1800s             1800s      6138   \n",
       "159178  33114      7       young-adult       young-adult    356321   \n",
       "462322  27199     48            series            series     80670   \n",
       "\n",
       "                                                    title  \n",
       "607814                                               Open  \n",
       "294313             Hunted (The Iron Druid Chronicles, #6)  \n",
       "325606                      One Hundred Years of Solitude  \n",
       "151001                 Broken Angels (Takeshi Kovacs, #2)  \n",
       "341672  Sickened: The Memoir of a Munchausen by Proxy ...  \n",
       "261080              Shadow and Bone (Shadow and Bone, #1)  \n",
       "330880                                Pride and Prejudice  \n",
       "351887                                      The Moonstone  \n",
       "159178                                 The Story of Babar  \n",
       "462322     Otherwise Known as Sheila the Great (Fudge #2)  "
      ]
     },
     "execution_count": 39,
     "metadata": {},
     "output_type": "execute_result"
    }
   ],
   "source": [
    "bt.sample( 10, weights = 'count')"
   ]
  },
  {
   "cell_type": "code",
   "execution_count": 40,
   "metadata": {},
   "outputs": [
    {
     "data": {
      "image/png": "[encoded data removed]",
      "text/plain": [
       "<Figure size 640x480 with 1 Axes>"
      ]
     },
     "metadata": {},
     "output_type": "display_data"
    }
   ],
   "source": [
    "import matplotlib.pyplot as plt\n",
    "\n",
    "plt.hist(r['rating'], bins=5, edgecolor='black')\n",
    "plt.xlabel('Rating')\n",
    "plt.ylabel('Count')\n",
    "plt.title('Rating Distribution')\n",
    "plt.show()"
   ]
  },
  {
   "cell_type": "code",
   "execution_count": null,
   "metadata": {},
   "outputs": [],
   "source": [
    "'''Histogram Creation:\n",
    "\n",
    "The code generates a histogram for the 'rating' column in DataFrame 'r'.\n",
    "Bins and Edge Color:\n",
    "\n",
    "The histogram is divided into 5 bins, and the edges are outlined in black.\n",
    "Labels and Title:\n",
    "\n",
    "X and Y-axis labels, as well as a title, are added for clarity.\n",
    "Display:\n",
    "\n",
    "The resulting histogram is displayed using Matplotlib.'''"
   ]
  },
  {
   "cell_type": "code",
   "execution_count": 41,
   "metadata": {},
   "outputs": [
    {
     "data": {
      "image/png": "[encoded data removed]",
      "text/plain": [
       "<Figure size 640x480 with 1 Axes>"
      ]
     },
     "metadata": {},
     "output_type": "display_data"
    }
   ],
   "source": [
    "avg_ratings_by_author = b.groupby('authors')['average_rating'].mean().sort_values(ascending=False).head(10)\n",
    "avg_ratings_by_author.plot(kind='barh')\n",
    "plt.xlabel('Average Rating')\n",
    "plt.title('Average Rankings by Author')\n",
    "plt.show()"
   ]
  },
  {
   "cell_type": "code",
   "execution_count": null,
   "metadata": {},
   "outputs": [],
   "source": [
    "'''Average Ratings by Author:\n",
    "\n",
    "Calculate the mean of 'average_rating' for each author in DataFrame 'b'.\n",
    "Top 10 Authors:\n",
    "\n",
    "Select the top 10 authors with the highest average ratings.\n",
    "Horizontal Bar Chart:\n",
    "\n",
    "Plot a horizontal bar chart to visualize the average ratings for each author.\n",
    "Labels and Title:\n",
    "\n",
    "Add labels for the x-axis and y-axis, along with a title for the chart.\n",
    "Display:\n",
    "\n",
    "Display the bar chart using Matplotlib.'''"
   ]
  },
  {
   "cell_type": "code",
   "execution_count": 42,
   "metadata": {},
   "outputs": [
    {
     "data": {
      "image/png": "[encoded data removed]",
      "text/plain": [
       "<Figure size 640x480 with 1 Axes>"
      ]
     },
     "metadata": {},
     "output_type": "display_data"
    }
   ],
   "source": [
    "user_review_counts = r.groupby('user_id')['book_id'].count().sort_values(ascending=False).head(10)\n",
    "user_review_counts.plot(kind='barh')\n",
    "plt.xlabel('Number of Reviews')\n",
    "plt.title('Number of Reviews by User')\n",
    "plt.show()"
   ]
  },
  {
   "cell_type": "code",
   "execution_count": null,
   "metadata": {},
   "outputs": [],
   "source": [
    "'''User Review Counts:\n",
    "\n",
    "Count the number of reviews each user ('user_id') has given in DataFrame 'r'.\n",
    "Top 10 Users:\n",
    "\n",
    "Identify the top 10 users with the most reviews.\n",
    "Horizontal Bar Chart:\n",
    "\n",
    "Create a horizontal bar chart to visualize the number of reviews for each user.\n",
    "Labels and Title:\n",
    "\n",
    "Include labels for the x-axis and y-axis, along with a title for the chart.\n",
    "Display:\n",
    "\n",
    "Show the horizontal bar chart using Matplotlib.'''"
   ]
  },
  {
   "cell_type": "code",
   "execution_count": 43,
   "metadata": {},
   "outputs": [
    {
     "data": {
      "image/png": "[encoded data removed]",
      "text/plain": [
       "<Figure size 640x480 with 1 Axes>"
      ]
     },
     "metadata": {},
     "output_type": "display_data"
    }
   ],
   "source": [
    "reviews_by_year = b.groupby('original_publication_year')['id'].count().sort_index()\n",
    "reviews_by_year.plot(kind='bar')\n",
    "plt.xlabel('Year')\n",
    "plt.ylabel('Number of Reviews')\n",
    "plt.title('Number of Reviews by Book Year')\n",
    "plt.show()"
   ]
  },
  {
   "cell_type": "code",
   "execution_count": null,
   "metadata": {},
   "outputs": [],
   "source": [
    "'''Reviews by Publication Year:\n",
    "\n",
    "Count the number of reviews for each original publication year in DataFrame 'b'.\n",
    "Bar Chart:\n",
    "\n",
    "Create a bar chart to illustrate the distribution of reviews based on the original publication year.\n",
    "Labels and Title:\n",
    "\n",
    "Add labels for the x-axis and y-axis, along with a title for the chart.\n",
    "Display:\n",
    "\n",
    "Show the bar chart using Matplotlib.'''"
   ]
  },
  {
   "cell_type": "code",
   "execution_count": null,
   "metadata": {},
   "outputs": [],
   "source": [
    "##################And the reason for my various attempts at these visualizations \n",
    "##################is to better introduce the data frame and to show its complexity."
   ]
  },
  {
   "cell_type": "code",
   "execution_count": 44,
   "metadata": {},
   "outputs": [
    {
     "data": {
      "image/png": "[encoded data removed]",
      "text/plain": [
       "<Figure size 640x480 with 1 Axes>"
      ]
     },
     "metadata": {},
     "output_type": "display_data"
    }
   ],
   "source": [
    "tag_counts = bt.groupby('tag_id')['count'].sum().sort_values(ascending=False)\n",
    "top_tags = tag_counts.head(10)\n",
    "top_tags.plot(kind='barh')\n",
    "plt.xlabel('Number of Tags')\n",
    "plt.title('Top 10 Most Popular Tags')\n",
    "plt.show()"
   ]
  },
  {
   "cell_type": "code",
   "execution_count": 45,
   "metadata": {},
   "outputs": [
    {
     "data": {
      "image/png": "[encoded data removed]",
      "text/plain": [
       "<Figure size 1000x600 with 1 Axes>"
      ]
     },
     "metadata": {},
     "output_type": "display_data"
    }
   ],
   "source": [
    "import matplotlib.pyplot as plt\n",
    "\n",
    "top_rated_books = b.sort_values(by='ratings_count', ascending=False).head(10)\n",
    "plt.figure(figsize=(10, 6))\n",
    "plt.barh(top_rated_books['title'], top_rated_books['ratings_count'], color='skyblue')\n",
    "plt.xlabel('Number of Ratings')\n",
    "plt.title('Top 10 Rated Books')\n",
    "plt.gca().invert_yaxis()\n",
    "plt.show()"
   ]
  },
  {
   "cell_type": "code",
   "execution_count": null,
   "metadata": {},
   "outputs": [],
   "source": [
    "'''Top-Rated Books:\n",
    "\n",
    "Select the top 10 books with the highest ratings count from DataFrame 'b'.\n",
    "Horizontal Bar Chart:\n",
    "\n",
    "Create a horizontal bar chart to visualize the ratings count for each top-rated book.\n",
    "Figure Size and Color:\n",
    "\n",
    "Set the figure size to 10x6 inches and use sky-blue color for the bars.\n",
    "Labels and Title:\n",
    "\n",
    "Add labels for the x-axis and y-axis, along with a title for the chart.\n",
    "Invert Y-Axis:\n",
    "\n",
    "Invert the y-axis to display the highest-rated book at the top of the chart.\n",
    "Display:\n",
    "\n",
    "Show the horizontal bar chart using Matplotlib.'''"
   ]
  },
  {
   "cell_type": "code",
   "execution_count": 46,
   "metadata": {},
   "outputs": [
    {
     "data": {
      "text/plain": [
       "tag_name\n",
       "favorites      9881\n",
       "owned          9858\n",
       "books-i-own    9799\n",
       "library        9415\n",
       "owned-books    9221\n",
       "to-buy         8692\n",
       "kindle         8316\n",
       "default        8239\n",
       "ebook          8054\n",
       "my-books       7561\n",
       "audiobook      7242\n",
       "ebooks         7203\n",
       "wish-list      7192\n",
       "my-library     7000\n",
       "audiobooks     6862\n",
       "i-own          6670\n",
       "adult          6604\n",
       "audio          6548\n",
       "favourites     6422\n",
       "novels         5665\n",
       "Name: tag_name, dtype: int64"
      ]
     },
     "execution_count": 46,
     "metadata": {},
     "output_type": "execute_result"
    }
   ],
   "source": [
    "bt = bt.merge(t[['tag_id', 'tag_name']], on='tag_id', suffixes=('_tag_app', '_tag'))\n",
    "bt.drop(columns=['book_id'], inplace=True)\n",
    "bt.loc[bt['count'] < 0, 'count'] = 0\n",
    "tag_counts = bt.groupby('tag_name').tag_name.count().sort_values(ascending=False)\n",
    "tag_counts.head(20)"
   ]
  },
  {
   "cell_type": "code",
   "execution_count": null,
   "metadata": {},
   "outputs": [],
   "source": [
    "'''\n",
    "In this cell:\n",
    "\n",
    "Tag information from DataFrame t is merged into the existing DataFrame bt based on 'tag_id'.\n",
    "The 'book_id' column is dropped for simplification.\n",
    "Negative counts in the 'count' column are set to 0.\n",
    "Tag counts are calculated by grouping on 'tag_name'.\n",
    "The top 20 tags by count are displayed'''"
   ]
  },
  {
   "cell_type": "code",
   "execution_count": 47,
   "metadata": {},
   "outputs": [
    {
     "data": {
      "text/plain": [
       "tag_name\n",
       "favorites      9881\n",
       "owned          9858\n",
       "books-i-own    9799\n",
       "library        9415\n",
       "owned-books    9221\n",
       "to-buy         8692\n",
       "kindle         8316\n",
       "default        8239\n",
       "ebook          8054\n",
       "my-books       7561\n",
       "audiobook      7242\n",
       "ebooks         7203\n",
       "wish-list      7192\n",
       "my-library     7000\n",
       "audiobooks     6862\n",
       "i-own          6670\n",
       "adult          6604\n",
       "audio          6548\n",
       "favourites     6422\n",
       "novels         5665\n",
       "Name: tag_name, dtype: int64"
      ]
     },
     "execution_count": 47,
     "metadata": {},
     "output_type": "execute_result"
    }
   ],
   "source": [
    "tag_counts = bt.groupby( 'tag_name' ).tag_name.count().sort_values( ascending = False )\n",
    "tag_counts.head( 20 )"
   ]
  },
  {
   "cell_type": "code",
   "execution_count": 52,
   "metadata": {},
   "outputs": [
    {
     "data": {
      "text/plain": [
       "\"import matplotlib.pyplot as plt\\n\\nreviews_by_year = b.groupby('original_publication_year')['id'].count().sort_index()\\nplt.figure(figsize=(10, 6))\\nplt.bar(reviews_by_year.index, reviews_by_year.values, color='skyblue')\\nplt.xlabel('Year')\\nplt.ylabel('Number of Reviews')\\nplt.title('Number of Reviews by Original Publication Year')\\nplt.show()\\n\""
      ]
     },
     "execution_count": 52,
     "metadata": {},
     "output_type": "execute_result"
    }
   ],
   "source": [
    "'''import matplotlib.pyplot as plt\n",
    "\n",
    "reviews_by_year = b.groupby('original_publication_year')['id'].count().sort_index()\n",
    "plt.figure(figsize=(10, 6))\n",
    "plt.bar(reviews_by_year.index, reviews_by_year.values, color='skyblue')\n",
    "plt.xlabel('Year')\n",
    "plt.ylabel('Number of Reviews')\n",
    "plt.title('Number of Reviews by Original Publication Year')\n",
    "plt.show()\n",
    "'''"
   ]
  },
  {
   "cell_type": "code",
   "execution_count": 49,
   "metadata": {},
   "outputs": [
    {
     "name": "stdout",
     "output_type": "stream",
     "text": [
      "Random Selected Label: pop-sci\n"
     ]
    }
   ],
   "source": [
    "import pandas as pd\n",
    "import numpy as np\n",
    "\n",
    "tags = pd.read_csv('tags.csv')\n",
    "selected_tag = np.random.choice(tags['tag_name'], 1)[0]\n",
    "print(f\"Random Selected Label: {selected_tag}\")"
   ]
  },
  {
   "cell_type": "code",
   "execution_count": 50,
   "metadata": {},
   "outputs": [
    {
     "name": "stdout",
     "output_type": "stream",
     "text": [
      "   tag_id   count\n",
      "0   30574  167697\n",
      "1   11305   37174\n",
      "2   11557   34173\n",
      "3    8717   12986\n",
      "4   33114   12716\n"
     ]
    }
   ],
   "source": [
    "import pandas as pd\n",
    "\n",
    "book_tags = pd.read_csv('book_tags.csv')\n",
    "book_tags.drop('goodreads_book_id', axis=1, inplace=True)\n",
    "print(book_tags.head())"
   ]
  },
  {
   "cell_type": "code",
   "execution_count": null,
   "metadata": {},
   "outputs": [],
   "source": [
    "'''\n",
    "In this cell:\n",
    "\n",
    "The 'book_tags.csv' file is read into a Pandas DataFrame named book_tags.\n",
    "The 'goodreads_book_id' column is dropped for simplification.\n",
    "The first few rows of the modified DataFrame are printed for inspection.'''"
   ]
  },
  {
   "cell_type": "code",
   "execution_count": 51,
   "metadata": {},
   "outputs": [
    {
     "name": "stdout",
     "output_type": "stream",
     "text": [
      "Top 10 Most Used Tags:\n",
      "5207           books-i-own\n",
      "8717     currently-reading\n",
      "11557            favorites\n",
      "11743              fiction\n",
      "17213               kindle\n",
      "18045              library\n",
      "22743                owned\n",
      "22753          owned-books\n",
      "30521               to-buy\n",
      "30574              to-read\n",
      "Name: tag_name, dtype: object\n",
      "Selected Book:\n",
      "                                         title\n",
      "1978  Dead Ever After (Sookie Stackhouse, #13)\n"
     ]
    }
   ],
   "source": [
    "import pandas as pd\n",
    "\n",
    "tags = pd.read_csv('tags.csv')\n",
    "book_tags = pd.read_csv('book_tags.csv')\n",
    "top_tags = book_tags.groupby('tag_id').count().sort_values(by='count', ascending=False).head(10)\n",
    "top_tag_names = tags[tags['tag_id'].isin(top_tags.index)]['tag_name']\n",
    "print(\"Top 10 Most Used Tags:\")\n",
    "print(top_tag_names)\n",
    "selected_tag = input(\"Please select a tag: \")\n",
    "selected_tag_id = tags[tags['tag_name'] == selected_tag]['tag_id'].values\n",
    "if not selected_tag_id:\n",
    "    print(\"Invalid label. Please select an existing tag.\")\n",
    "else:\n",
    "    selected_tag_id = selected_tag_id[0]\n",
    "    filtered_books = book_tags[book_tags['tag_id'] == selected_tag_id]\n",
    "    if not filtered_books.empty:\n",
    "        random_book_id = filtered_books.sample(1)['goodreads_book_id'].values[0]\n",
    "        books = pd.read_csv('books.csv')\n",
    "        selected_book = books[books['book_id'] == random_book_id][['title']]\n",
    "        print(\"Selected Book:\")\n",
    "        print(selected_book)\n",
    "    else:\n",
    "        print(\"No books were found associated with the selected tag.\")"
   ]
  },
  {
   "cell_type": "code",
   "execution_count": null,
   "metadata": {},
   "outputs": [],
   "source": [
    "'''And lastly\n",
    "\n",
    "In this cell:\n",
    "\n",
    "Tags and book tags information are read into Pandas DataFrames (tags and book_tags).\n",
    "The top 10 most used tags are identified based on their counts in the book_tags DataFrame.\n",
    "User input is requested to select a tag.\n",
    "If the selected tag is not valid, an error message is displayed.\n",
    "If the tag is valid, a random book associated with the selected tag is displayed.\n",
    "If no books are found for the selected tag, a corresponding message is printed.\n",
    "\n",
    "I choose Horror tag and it's recommend me this book: 1978  Dead Ever After (Sookie Stackhouse, #13)'''"
   ]
  }
 ],
 "metadata": {
  "kernelspec": {
   "display_name": "Python 3",
   "language": "python",
   "name": "python3"
  },
  "language_info": {
   "codemirror_mode": {
    "name": "ipython",
    "version": 3
   },
   "file_extension": ".py",
   "mimetype": "text/x-python",
   "name": "python",
   "nbconvert_exporter": "python",
   "pygments_lexer": "ipython3",
   "version": "3.12.2"
  }
 },
 "nbformat": 4,
 "nbformat_minor": 2
}
